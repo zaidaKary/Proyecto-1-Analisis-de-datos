{
  "cells": [
    {
      "cell_type": "markdown",
      "metadata": {
        "id": "iP6Rir-8-WDu"
      },
      "source": [
        "# Proyecto 1\n",
        "# Apellidos y Nombres: Sales Risco, Zaida Maria Kary "
      ]
    },
    {
      "cell_type": "markdown",
      "metadata": {
        "id": "w4U-fg_iKSPu"
      },
      "source": [
        "## Contexto del dataset"
      ]
    },
    {
      "cell_type": "markdown",
      "metadata": {
        "id": "i0XAjn7oKVgr"
      },
      "source": [
        "Se trata de un conjunto de datos transnacional que contiene todas las transacciones ocurridas entre el 01/12/2010 y el 09/12/2011 para una empresa de venta al por menor en línea sin tienda, registrada y con sede en el Reino Unido. La empresa vende principalmente regalos únicos para todas las ocasiones. Muchos clientes de la empresa son mayoristas. Ver más detalle del dataset [aquí](https://www.kaggle.com/datasets/carrie1/ecommerce-data)"
      ]
    },
    {
      "cell_type": "markdown",
      "metadata": {
        "id": "mkgn9UTq-t-3"
      },
      "source": [
        "## Lectura de archivos"
      ]
    },
    {
      "cell_type": "markdown",
      "metadata": {
        "id": "5I1Vi1Nr-tDG"
      },
      "source": [
        "1. Lea todo el contenido de la carpeta \"proyecto/data\", guarde todo el contenido en un mismo dataframe con nombre ecommerce_df.\n",
        "Utilice una codificación \"latin-1\".  \n",
        "Verifique por qué es importante la codificación elegida.  \n",
        "Recursos de ayuda [aquí](https://j2logo.com/python/listar-directorio-en-python/)"
      ]
    },
    {
      "cell_type": "code",
      "execution_count": 1,
      "metadata": {},
      "outputs": [
        {
          "data": {
            "application/vnd.microsoft.datawrangler.viewer.v0+json": {
              "columns": [
                {
                  "name": "index",
                  "rawType": "int64",
                  "type": "integer"
                },
                {
                  "name": "InvoiceNo",
                  "rawType": "object",
                  "type": "unknown"
                },
                {
                  "name": "StockCode",
                  "rawType": "object",
                  "type": "unknown"
                },
                {
                  "name": "Description",
                  "rawType": "object",
                  "type": "unknown"
                },
                {
                  "name": "Quantity",
                  "rawType": "int64",
                  "type": "integer"
                },
                {
                  "name": "InvoiceDate",
                  "rawType": "object",
                  "type": "string"
                },
                {
                  "name": "UnitPrice",
                  "rawType": "float64",
                  "type": "float"
                },
                {
                  "name": "CustomerID",
                  "rawType": "float64",
                  "type": "float"
                },
                {
                  "name": "Country",
                  "rawType": "object",
                  "type": "string"
                }
              ],
              "ref": "7600ca12-d44a-4c17-b4d2-fc977327de36",
              "rows": [
                [
                  "0",
                  "550644",
                  "22722",
                  "SET OF 6 SPICE TINS PANTRY DESIGN",
                  "7",
                  "4/19/2011 16:19",
                  "3.95",
                  "12733.0",
                  "USA"
                ],
                [
                  "1",
                  "550644",
                  "22979",
                  "PANTRY WASHING UP BRUSH",
                  "2",
                  "4/19/2011 16:19",
                  "1.45",
                  "12733.0",
                  "USA"
                ],
                [
                  "2",
                  "550644",
                  "84987",
                  "SET OF 36 TEATIME PAPER DOILIES",
                  "3",
                  "4/19/2011 16:19",
                  "1.45",
                  "12733.0",
                  "USA"
                ],
                [
                  "3",
                  "550644",
                  "22720",
                  "SET OF 3 CAKE TINS PANTRY DESIGN ",
                  "1",
                  "4/19/2011 16:19",
                  "4.95",
                  "12733.0",
                  "USA"
                ],
                [
                  "4",
                  "550644",
                  "22993",
                  "SET OF 4 PANTRY JELLY MOULDS",
                  "1",
                  "4/19/2011 16:19",
                  "1.25",
                  "12733.0",
                  "USA"
                ],
                [
                  "5",
                  "550644",
                  "47580",
                  "TEA TIME DES TEA COSY",
                  "3",
                  "4/19/2011 16:19",
                  "2.55",
                  "12733.0",
                  "USA"
                ],
                [
                  "6",
                  "550644",
                  "22989",
                  "SET 2 PANTRY DESIGN TEA TOWELS",
                  "6",
                  "4/19/2011 16:19",
                  "3.25",
                  "12733.0",
                  "USA"
                ],
                [
                  "7",
                  "550644",
                  "22900",
                  " SET 2 TEA TOWELS I LOVE LONDON ",
                  "3",
                  "4/19/2011 16:19",
                  "3.25",
                  "12733.0",
                  "USA"
                ],
                [
                  "8",
                  "550644",
                  "22128",
                  "PARTY CONES CANDY ASSORTED",
                  "12",
                  "4/19/2011 16:19",
                  "1.25",
                  "12733.0",
                  "USA"
                ],
                [
                  "9",
                  "550644",
                  "47590B",
                  "PINK HAPPY BIRTHDAY BUNTING",
                  "4",
                  "4/19/2011 16:19",
                  "5.45",
                  "12733.0",
                  "USA"
                ],
                [
                  "10",
                  "550644",
                  "22965",
                  "3 TRADITIONAl BISCUIT CUTTERS  SET",
                  "2",
                  "4/19/2011 16:19",
                  "2.1",
                  "12733.0",
                  "USA"
                ],
                [
                  "11",
                  "550644",
                  "22088",
                  "PAPER BUNTING COLOURED LACE",
                  "6",
                  "4/19/2011 16:19",
                  "2.95",
                  "12733.0",
                  "USA"
                ],
                [
                  "12",
                  "550644",
                  "22990",
                  "COTTON APRON PANTRY DESIGN",
                  "5",
                  "4/19/2011 16:19",
                  "4.95",
                  "12733.0",
                  "USA"
                ],
                [
                  "13",
                  "550644",
                  "22129",
                  "PARTY CONES CANDY TREE DECORATION",
                  "36",
                  "4/19/2011 16:19",
                  "0.85",
                  "12733.0",
                  "USA"
                ],
                [
                  "14",
                  "550644",
                  "21067",
                  "VINTAGE RED TEATIME MUG",
                  "6",
                  "4/19/2011 16:19",
                  "1.25",
                  "12733.0",
                  "USA"
                ],
                [
                  "15",
                  "550644",
                  "22149",
                  "FELTCRAFT 6 FLOWER FRIENDS",
                  "6",
                  "4/19/2011 16:19",
                  "2.1",
                  "12733.0",
                  "USA"
                ],
                [
                  "16",
                  "550644",
                  "22147",
                  "FELTCRAFT BUTTERFLY HEARTS",
                  "7",
                  "4/19/2011 16:19",
                  "1.45",
                  "12733.0",
                  "USA"
                ],
                [
                  "17",
                  "550644",
                  "22301",
                  "COFFEE MUG CAT + BIRD DESIGN",
                  "6",
                  "4/19/2011 16:19",
                  "2.55",
                  "12733.0",
                  "USA"
                ],
                [
                  "18",
                  "550644",
                  "22970",
                  "LONDON BUS COFFEE MUG",
                  "6",
                  "4/19/2011 16:19",
                  "2.55",
                  "12733.0",
                  "USA"
                ],
                [
                  "19",
                  "550644",
                  "22423",
                  "REGENCY CAKESTAND 3 TIER",
                  "6",
                  "4/19/2011 16:19",
                  "12.75",
                  "12733.0",
                  "USA"
                ],
                [
                  "20",
                  "550644",
                  "37501",
                  "TEA TIME TEA SET IN GIFT BOX",
                  "5",
                  "4/19/2011 16:19",
                  "6.95",
                  "12733.0",
                  "USA"
                ],
                [
                  "21",
                  "550644",
                  "37500",
                  "TEA TIME TEAPOT IN GIFT BOX",
                  "4",
                  "4/19/2011 16:19",
                  "4.95",
                  "12733.0",
                  "USA"
                ],
                [
                  "22",
                  "570467",
                  "22551",
                  "PLASTERS IN TIN SPACEBOY",
                  "12",
                  "10/10/2011 16:06",
                  "1.65",
                  "12607.0",
                  "USA"
                ],
                [
                  "23",
                  "570467",
                  "21915",
                  "RED  HARMONICA IN BOX ",
                  "12",
                  "10/10/2011 16:06",
                  "1.25",
                  "12607.0",
                  "USA"
                ],
                [
                  "24",
                  "570467",
                  "22619",
                  "SET OF 6 SOLDIER SKITTLES",
                  "4",
                  "10/10/2011 16:06",
                  "3.75",
                  "12607.0",
                  "USA"
                ],
                [
                  "25",
                  "570467",
                  "22138",
                  "BAKING SET 9 PIECE RETROSPOT ",
                  "3",
                  "10/10/2011 16:06",
                  "4.95",
                  "12607.0",
                  "USA"
                ],
                [
                  "26",
                  "570467",
                  "21524",
                  "DOORMAT SPOTTY HOME SWEET HOME",
                  "2",
                  "10/10/2011 16:06",
                  "8.25",
                  "12607.0",
                  "USA"
                ],
                [
                  "27",
                  "570467",
                  "21668",
                  "RED STRIPE CERAMIC DRAWER KNOB",
                  "12",
                  "10/10/2011 16:06",
                  "1.45",
                  "12607.0",
                  "USA"
                ],
                [
                  "28",
                  "570467",
                  "21671",
                  "RED SPOT CERAMIC DRAWER KNOB",
                  "12",
                  "10/10/2011 16:06",
                  "1.45",
                  "12607.0",
                  "USA"
                ],
                [
                  "29",
                  "570467",
                  "21669",
                  "BLUE STRIPE CERAMIC DRAWER KNOB",
                  "12",
                  "10/10/2011 16:06",
                  "1.45",
                  "12607.0",
                  "USA"
                ],
                [
                  "30",
                  "570467",
                  "22090",
                  "PAPER BUNTING RETROSPOT",
                  "6",
                  "10/10/2011 16:06",
                  "2.95",
                  "12607.0",
                  "USA"
                ],
                [
                  "31",
                  "570467",
                  "22668",
                  "PINK BABY BUNTING",
                  "5",
                  "10/10/2011 16:06",
                  "2.95",
                  "12607.0",
                  "USA"
                ],
                [
                  "32",
                  "570467",
                  "47590A",
                  "BLUE HAPPY BIRTHDAY BUNTING",
                  "3",
                  "10/10/2011 16:06",
                  "5.45",
                  "12607.0",
                  "USA"
                ],
                [
                  "33",
                  "570467",
                  "47590B",
                  "PINK HAPPY BIRTHDAY BUNTING",
                  "3",
                  "10/10/2011 16:06",
                  "5.45",
                  "12607.0",
                  "USA"
                ],
                [
                  "34",
                  "570467",
                  "22974",
                  "CHILDRENS DOLLY GIRL MUG",
                  "12",
                  "10/10/2011 16:06",
                  "1.65",
                  "12607.0",
                  "USA"
                ],
                [
                  "35",
                  "570467",
                  "22972",
                  "CHILDREN'S SPACEBOY MUG",
                  "12",
                  "10/10/2011 16:06",
                  "1.65",
                  "12607.0",
                  "USA"
                ],
                [
                  "36",
                  "570467",
                  "22326",
                  "ROUND SNACK BOXES SET OF4 WOODLAND ",
                  "6",
                  "10/10/2011 16:06",
                  "2.95",
                  "12607.0",
                  "USA"
                ],
                [
                  "37",
                  "570467",
                  "21231",
                  "SWEETHEART CERAMIC TRINKET BOX",
                  "12",
                  "10/10/2011 16:06",
                  "1.25",
                  "12607.0",
                  "USA"
                ],
                [
                  "38",
                  "570467",
                  "21232",
                  "STRAWBERRY CERAMIC TRINKET BOX",
                  "12",
                  "10/10/2011 16:06",
                  "1.25",
                  "12607.0",
                  "USA"
                ],
                [
                  "39",
                  "570467",
                  "22949",
                  "36 DOILIES DOLLY GIRL",
                  "12",
                  "10/10/2011 16:06",
                  "1.45",
                  "12607.0",
                  "USA"
                ],
                [
                  "40",
                  "570467",
                  "21974",
                  "SET OF 36 PAISLEY FLOWER DOILIES",
                  "12",
                  "10/10/2011 16:06",
                  "1.45",
                  "12607.0",
                  "USA"
                ],
                [
                  "41",
                  "570467",
                  "84987",
                  "SET OF 36 TEATIME PAPER DOILIES",
                  "12",
                  "10/10/2011 16:06",
                  "1.45",
                  "12607.0",
                  "USA"
                ],
                [
                  "42",
                  "570467",
                  "84509A",
                  "SET OF 4 ENGLISH ROSE PLACEMATS",
                  "4",
                  "10/10/2011 16:06",
                  "3.75",
                  "12607.0",
                  "USA"
                ],
                [
                  "43",
                  "570467",
                  "37448",
                  "CERAMIC CAKE DESIGN SPOTTED MUG",
                  "12",
                  "10/10/2011 16:06",
                  "1.49",
                  "12607.0",
                  "USA"
                ],
                [
                  "44",
                  "570467",
                  "22649",
                  "STRAWBERRY FAIRY CAKE TEAPOT",
                  "8",
                  "10/10/2011 16:06",
                  "4.95",
                  "12607.0",
                  "USA"
                ],
                [
                  "45",
                  "570467",
                  "22951",
                  "60 CAKE CASES DOLLY GIRL DESIGN",
                  "24",
                  "10/10/2011 16:06",
                  "0.55",
                  "12607.0",
                  "USA"
                ],
                [
                  "46",
                  "570467",
                  "21976",
                  "PACK OF 60 MUSHROOM CAKE CASES",
                  "24",
                  "10/10/2011 16:06",
                  "0.55",
                  "12607.0",
                  "USA"
                ],
                [
                  "47",
                  "570467",
                  "22417",
                  "PACK OF 60 SPACEBOY CAKE CASES",
                  "24",
                  "10/10/2011 16:06",
                  "0.55",
                  "12607.0",
                  "USA"
                ],
                [
                  "48",
                  "570467",
                  "21212",
                  "PACK OF 72 RETROSPOT CAKE CASES",
                  "24",
                  "10/10/2011 16:06",
                  "0.55",
                  "12607.0",
                  "USA"
                ],
                [
                  "49",
                  "570467",
                  "22938",
                  "CUPCAKE LACE PAPER SET 6",
                  "12",
                  "10/10/2011 16:06",
                  "1.95",
                  "12607.0",
                  "USA"
                ]
              ],
              "shape": {
                "columns": 8,
                "rows": 541909
              }
            },
            "text/html": [
              "<div>\n",
              "<style scoped>\n",
              "    .dataframe tbody tr th:only-of-type {\n",
              "        vertical-align: middle;\n",
              "    }\n",
              "\n",
              "    .dataframe tbody tr th {\n",
              "        vertical-align: top;\n",
              "    }\n",
              "\n",
              "    .dataframe thead th {\n",
              "        text-align: right;\n",
              "    }\n",
              "</style>\n",
              "<table border=\"1\" class=\"dataframe\">\n",
              "  <thead>\n",
              "    <tr style=\"text-align: right;\">\n",
              "      <th></th>\n",
              "      <th>InvoiceNo</th>\n",
              "      <th>StockCode</th>\n",
              "      <th>Description</th>\n",
              "      <th>Quantity</th>\n",
              "      <th>InvoiceDate</th>\n",
              "      <th>UnitPrice</th>\n",
              "      <th>CustomerID</th>\n",
              "      <th>Country</th>\n",
              "    </tr>\n",
              "  </thead>\n",
              "  <tbody>\n",
              "    <tr>\n",
              "      <th>0</th>\n",
              "      <td>550644</td>\n",
              "      <td>22722</td>\n",
              "      <td>SET OF 6 SPICE TINS PANTRY DESIGN</td>\n",
              "      <td>7</td>\n",
              "      <td>4/19/2011 16:19</td>\n",
              "      <td>3.95</td>\n",
              "      <td>12733.0</td>\n",
              "      <td>USA</td>\n",
              "    </tr>\n",
              "    <tr>\n",
              "      <th>1</th>\n",
              "      <td>550644</td>\n",
              "      <td>22979</td>\n",
              "      <td>PANTRY WASHING UP BRUSH</td>\n",
              "      <td>2</td>\n",
              "      <td>4/19/2011 16:19</td>\n",
              "      <td>1.45</td>\n",
              "      <td>12733.0</td>\n",
              "      <td>USA</td>\n",
              "    </tr>\n",
              "    <tr>\n",
              "      <th>2</th>\n",
              "      <td>550644</td>\n",
              "      <td>84987</td>\n",
              "      <td>SET OF 36 TEATIME PAPER DOILIES</td>\n",
              "      <td>3</td>\n",
              "      <td>4/19/2011 16:19</td>\n",
              "      <td>1.45</td>\n",
              "      <td>12733.0</td>\n",
              "      <td>USA</td>\n",
              "    </tr>\n",
              "    <tr>\n",
              "      <th>3</th>\n",
              "      <td>550644</td>\n",
              "      <td>22720</td>\n",
              "      <td>SET OF 3 CAKE TINS PANTRY DESIGN</td>\n",
              "      <td>1</td>\n",
              "      <td>4/19/2011 16:19</td>\n",
              "      <td>4.95</td>\n",
              "      <td>12733.0</td>\n",
              "      <td>USA</td>\n",
              "    </tr>\n",
              "    <tr>\n",
              "      <th>4</th>\n",
              "      <td>550644</td>\n",
              "      <td>22993</td>\n",
              "      <td>SET OF 4 PANTRY JELLY MOULDS</td>\n",
              "      <td>1</td>\n",
              "      <td>4/19/2011 16:19</td>\n",
              "      <td>1.25</td>\n",
              "      <td>12733.0</td>\n",
              "      <td>USA</td>\n",
              "    </tr>\n",
              "    <tr>\n",
              "      <th>...</th>\n",
              "      <td>...</td>\n",
              "      <td>...</td>\n",
              "      <td>...</td>\n",
              "      <td>...</td>\n",
              "      <td>...</td>\n",
              "      <td>...</td>\n",
              "      <td>...</td>\n",
              "      <td>...</td>\n",
              "    </tr>\n",
              "    <tr>\n",
              "      <th>541904</th>\n",
              "      <td>581587</td>\n",
              "      <td>22613</td>\n",
              "      <td>PACK OF 20 SPACEBOY NAPKINS</td>\n",
              "      <td>12</td>\n",
              "      <td>12/9/2011 12:50</td>\n",
              "      <td>0.85</td>\n",
              "      <td>12680.0</td>\n",
              "      <td>France</td>\n",
              "    </tr>\n",
              "    <tr>\n",
              "      <th>541905</th>\n",
              "      <td>581587</td>\n",
              "      <td>22899</td>\n",
              "      <td>CHILDREN'S APRON DOLLY GIRL</td>\n",
              "      <td>6</td>\n",
              "      <td>12/9/2011 12:50</td>\n",
              "      <td>2.10</td>\n",
              "      <td>12680.0</td>\n",
              "      <td>France</td>\n",
              "    </tr>\n",
              "    <tr>\n",
              "      <th>541906</th>\n",
              "      <td>581587</td>\n",
              "      <td>23254</td>\n",
              "      <td>CHILDRENS CUTLERY DOLLY GIRL</td>\n",
              "      <td>4</td>\n",
              "      <td>12/9/2011 12:50</td>\n",
              "      <td>4.15</td>\n",
              "      <td>12680.0</td>\n",
              "      <td>France</td>\n",
              "    </tr>\n",
              "    <tr>\n",
              "      <th>541907</th>\n",
              "      <td>581587</td>\n",
              "      <td>23255</td>\n",
              "      <td>CHILDRENS CUTLERY CIRCUS PARADE</td>\n",
              "      <td>4</td>\n",
              "      <td>12/9/2011 12:50</td>\n",
              "      <td>4.15</td>\n",
              "      <td>12680.0</td>\n",
              "      <td>France</td>\n",
              "    </tr>\n",
              "    <tr>\n",
              "      <th>541908</th>\n",
              "      <td>581587</td>\n",
              "      <td>22138</td>\n",
              "      <td>BAKING SET 9 PIECE RETROSPOT</td>\n",
              "      <td>3</td>\n",
              "      <td>12/9/2011 12:50</td>\n",
              "      <td>4.95</td>\n",
              "      <td>12680.0</td>\n",
              "      <td>France</td>\n",
              "    </tr>\n",
              "  </tbody>\n",
              "</table>\n",
              "<p>541909 rows × 8 columns</p>\n",
              "</div>"
            ],
            "text/plain": [
              "       InvoiceNo StockCode                        Description  Quantity  \\\n",
              "0         550644     22722  SET OF 6 SPICE TINS PANTRY DESIGN         7   \n",
              "1         550644     22979            PANTRY WASHING UP BRUSH         2   \n",
              "2         550644     84987    SET OF 36 TEATIME PAPER DOILIES         3   \n",
              "3         550644     22720  SET OF 3 CAKE TINS PANTRY DESIGN          1   \n",
              "4         550644     22993       SET OF 4 PANTRY JELLY MOULDS         1   \n",
              "...          ...       ...                                ...       ...   \n",
              "541904    581587     22613        PACK OF 20 SPACEBOY NAPKINS        12   \n",
              "541905    581587     22899       CHILDREN'S APRON DOLLY GIRL          6   \n",
              "541906    581587     23254      CHILDRENS CUTLERY DOLLY GIRL          4   \n",
              "541907    581587     23255    CHILDRENS CUTLERY CIRCUS PARADE         4   \n",
              "541908    581587     22138      BAKING SET 9 PIECE RETROSPOT          3   \n",
              "\n",
              "            InvoiceDate  UnitPrice  CustomerID Country  \n",
              "0       4/19/2011 16:19       3.95     12733.0     USA  \n",
              "1       4/19/2011 16:19       1.45     12733.0     USA  \n",
              "2       4/19/2011 16:19       1.45     12733.0     USA  \n",
              "3       4/19/2011 16:19       4.95     12733.0     USA  \n",
              "4       4/19/2011 16:19       1.25     12733.0     USA  \n",
              "...                 ...        ...         ...     ...  \n",
              "541904  12/9/2011 12:50       0.85     12680.0  France  \n",
              "541905  12/9/2011 12:50       2.10     12680.0  France  \n",
              "541906  12/9/2011 12:50       4.15     12680.0  France  \n",
              "541907  12/9/2011 12:50       4.15     12680.0  France  \n",
              "541908  12/9/2011 12:50       4.95     12680.0  France  \n",
              "\n",
              "[541909 rows x 8 columns]"
            ]
          },
          "execution_count": 1,
          "metadata": {},
          "output_type": "execute_result"
        }
      ],
      "source": [
        "import os\n",
        "import pandas as pd\n",
        "\n",
        "data_folder = \"data\" # Ruta de la carpeta\n",
        "archivos = [\n",
        "    f for f in os.listdir(data_folder)\n",
        "    if f.endswith('.csv') and f != 'proyecciones_mensuales_uk.csv'\n",
        "]\n",
        "\n",
        "# Se lee y concatena todos los archivos CSV usando latin-1\n",
        "dfs = []\n",
        "for archivo in archivos:\n",
        "    ruta = os.path.join(data_folder, archivo)\n",
        "    df = pd.read_csv(ruta, encoding='latin-1')\n",
        "    dfs.append(df)\n",
        "\n",
        "ecommerce_df = pd.concat(dfs, ignore_index=True)\n",
        "\n",
        "ecommerce_df"
      ]
    },
    {
      "cell_type": "markdown",
      "metadata": {
        "id": "6x-P_0LKe2Rt"
      },
      "source": [
        "=================== Código de ayuda para formatear las fechas ====================="
      ]
    },
    {
      "cell_type": "code",
      "execution_count": 2,
      "metadata": {
        "id": "DDZ_MVvMe7bB"
      },
      "outputs": [],
      "source": [
        "def parse_fecha(date):\n",
        "    for fmt in (\"%m/%d/%Y %H:%M:%S\",   # cuando tiene segundos\n",
        "                \"%m/%d/%Y %H:%M\"):     # cuando no tiene\n",
        "        try:\n",
        "            return pd.to_datetime(date, format=fmt)\n",
        "        except ValueError:\n",
        "            pass\n",
        "    return pd.NaT  # si no encaja en ninguno\n",
        "\n",
        "# Aplicas la función a cada elemento de la serie\n",
        "ecommerce_df['InvoiceDate'] = ecommerce_df['InvoiceDate'].apply(parse_fecha)"
      ]
    },
    {
      "cell_type": "code",
      "execution_count": 3,
      "metadata": {},
      "outputs": [
        {
          "data": {
            "application/vnd.microsoft.datawrangler.viewer.v0+json": {
              "columns": [
                {
                  "name": "index",
                  "rawType": "int64",
                  "type": "integer"
                },
                {
                  "name": "InvoiceNo",
                  "rawType": "object",
                  "type": "unknown"
                },
                {
                  "name": "StockCode",
                  "rawType": "object",
                  "type": "unknown"
                },
                {
                  "name": "Description",
                  "rawType": "object",
                  "type": "unknown"
                },
                {
                  "name": "Quantity",
                  "rawType": "int64",
                  "type": "integer"
                },
                {
                  "name": "InvoiceDate",
                  "rawType": "datetime64[ns]",
                  "type": "datetime"
                },
                {
                  "name": "UnitPrice",
                  "rawType": "float64",
                  "type": "float"
                },
                {
                  "name": "CustomerID",
                  "rawType": "float64",
                  "type": "float"
                },
                {
                  "name": "Country",
                  "rawType": "object",
                  "type": "string"
                }
              ],
              "ref": "5b10b579-dbdf-4f77-ab5b-f1c6f0e54648",
              "rows": [
                [
                  "0",
                  "550644",
                  "22722",
                  "SET OF 6 SPICE TINS PANTRY DESIGN",
                  "7",
                  "2011-04-19 16:19:00",
                  "3.95",
                  "12733.0",
                  "USA"
                ],
                [
                  "1",
                  "550644",
                  "22979",
                  "PANTRY WASHING UP BRUSH",
                  "2",
                  "2011-04-19 16:19:00",
                  "1.45",
                  "12733.0",
                  "USA"
                ],
                [
                  "2",
                  "550644",
                  "84987",
                  "SET OF 36 TEATIME PAPER DOILIES",
                  "3",
                  "2011-04-19 16:19:00",
                  "1.45",
                  "12733.0",
                  "USA"
                ],
                [
                  "3",
                  "550644",
                  "22720",
                  "SET OF 3 CAKE TINS PANTRY DESIGN ",
                  "1",
                  "2011-04-19 16:19:00",
                  "4.95",
                  "12733.0",
                  "USA"
                ],
                [
                  "4",
                  "550644",
                  "22993",
                  "SET OF 4 PANTRY JELLY MOULDS",
                  "1",
                  "2011-04-19 16:19:00",
                  "1.25",
                  "12733.0",
                  "USA"
                ],
                [
                  "5",
                  "550644",
                  "47580",
                  "TEA TIME DES TEA COSY",
                  "3",
                  "2011-04-19 16:19:00",
                  "2.55",
                  "12733.0",
                  "USA"
                ],
                [
                  "6",
                  "550644",
                  "22989",
                  "SET 2 PANTRY DESIGN TEA TOWELS",
                  "6",
                  "2011-04-19 16:19:00",
                  "3.25",
                  "12733.0",
                  "USA"
                ],
                [
                  "7",
                  "550644",
                  "22900",
                  " SET 2 TEA TOWELS I LOVE LONDON ",
                  "3",
                  "2011-04-19 16:19:00",
                  "3.25",
                  "12733.0",
                  "USA"
                ],
                [
                  "8",
                  "550644",
                  "22128",
                  "PARTY CONES CANDY ASSORTED",
                  "12",
                  "2011-04-19 16:19:00",
                  "1.25",
                  "12733.0",
                  "USA"
                ],
                [
                  "9",
                  "550644",
                  "47590B",
                  "PINK HAPPY BIRTHDAY BUNTING",
                  "4",
                  "2011-04-19 16:19:00",
                  "5.45",
                  "12733.0",
                  "USA"
                ],
                [
                  "10",
                  "550644",
                  "22965",
                  "3 TRADITIONAl BISCUIT CUTTERS  SET",
                  "2",
                  "2011-04-19 16:19:00",
                  "2.1",
                  "12733.0",
                  "USA"
                ],
                [
                  "11",
                  "550644",
                  "22088",
                  "PAPER BUNTING COLOURED LACE",
                  "6",
                  "2011-04-19 16:19:00",
                  "2.95",
                  "12733.0",
                  "USA"
                ],
                [
                  "12",
                  "550644",
                  "22990",
                  "COTTON APRON PANTRY DESIGN",
                  "5",
                  "2011-04-19 16:19:00",
                  "4.95",
                  "12733.0",
                  "USA"
                ],
                [
                  "13",
                  "550644",
                  "22129",
                  "PARTY CONES CANDY TREE DECORATION",
                  "36",
                  "2011-04-19 16:19:00",
                  "0.85",
                  "12733.0",
                  "USA"
                ],
                [
                  "14",
                  "550644",
                  "21067",
                  "VINTAGE RED TEATIME MUG",
                  "6",
                  "2011-04-19 16:19:00",
                  "1.25",
                  "12733.0",
                  "USA"
                ],
                [
                  "15",
                  "550644",
                  "22149",
                  "FELTCRAFT 6 FLOWER FRIENDS",
                  "6",
                  "2011-04-19 16:19:00",
                  "2.1",
                  "12733.0",
                  "USA"
                ],
                [
                  "16",
                  "550644",
                  "22147",
                  "FELTCRAFT BUTTERFLY HEARTS",
                  "7",
                  "2011-04-19 16:19:00",
                  "1.45",
                  "12733.0",
                  "USA"
                ],
                [
                  "17",
                  "550644",
                  "22301",
                  "COFFEE MUG CAT + BIRD DESIGN",
                  "6",
                  "2011-04-19 16:19:00",
                  "2.55",
                  "12733.0",
                  "USA"
                ],
                [
                  "18",
                  "550644",
                  "22970",
                  "LONDON BUS COFFEE MUG",
                  "6",
                  "2011-04-19 16:19:00",
                  "2.55",
                  "12733.0",
                  "USA"
                ],
                [
                  "19",
                  "550644",
                  "22423",
                  "REGENCY CAKESTAND 3 TIER",
                  "6",
                  "2011-04-19 16:19:00",
                  "12.75",
                  "12733.0",
                  "USA"
                ],
                [
                  "20",
                  "550644",
                  "37501",
                  "TEA TIME TEA SET IN GIFT BOX",
                  "5",
                  "2011-04-19 16:19:00",
                  "6.95",
                  "12733.0",
                  "USA"
                ],
                [
                  "21",
                  "550644",
                  "37500",
                  "TEA TIME TEAPOT IN GIFT BOX",
                  "4",
                  "2011-04-19 16:19:00",
                  "4.95",
                  "12733.0",
                  "USA"
                ],
                [
                  "22",
                  "570467",
                  "22551",
                  "PLASTERS IN TIN SPACEBOY",
                  "12",
                  "2011-10-10 16:06:00",
                  "1.65",
                  "12607.0",
                  "USA"
                ],
                [
                  "23",
                  "570467",
                  "21915",
                  "RED  HARMONICA IN BOX ",
                  "12",
                  "2011-10-10 16:06:00",
                  "1.25",
                  "12607.0",
                  "USA"
                ],
                [
                  "24",
                  "570467",
                  "22619",
                  "SET OF 6 SOLDIER SKITTLES",
                  "4",
                  "2011-10-10 16:06:00",
                  "3.75",
                  "12607.0",
                  "USA"
                ],
                [
                  "25",
                  "570467",
                  "22138",
                  "BAKING SET 9 PIECE RETROSPOT ",
                  "3",
                  "2011-10-10 16:06:00",
                  "4.95",
                  "12607.0",
                  "USA"
                ],
                [
                  "26",
                  "570467",
                  "21524",
                  "DOORMAT SPOTTY HOME SWEET HOME",
                  "2",
                  "2011-10-10 16:06:00",
                  "8.25",
                  "12607.0",
                  "USA"
                ],
                [
                  "27",
                  "570467",
                  "21668",
                  "RED STRIPE CERAMIC DRAWER KNOB",
                  "12",
                  "2011-10-10 16:06:00",
                  "1.45",
                  "12607.0",
                  "USA"
                ],
                [
                  "28",
                  "570467",
                  "21671",
                  "RED SPOT CERAMIC DRAWER KNOB",
                  "12",
                  "2011-10-10 16:06:00",
                  "1.45",
                  "12607.0",
                  "USA"
                ],
                [
                  "29",
                  "570467",
                  "21669",
                  "BLUE STRIPE CERAMIC DRAWER KNOB",
                  "12",
                  "2011-10-10 16:06:00",
                  "1.45",
                  "12607.0",
                  "USA"
                ],
                [
                  "30",
                  "570467",
                  "22090",
                  "PAPER BUNTING RETROSPOT",
                  "6",
                  "2011-10-10 16:06:00",
                  "2.95",
                  "12607.0",
                  "USA"
                ],
                [
                  "31",
                  "570467",
                  "22668",
                  "PINK BABY BUNTING",
                  "5",
                  "2011-10-10 16:06:00",
                  "2.95",
                  "12607.0",
                  "USA"
                ],
                [
                  "32",
                  "570467",
                  "47590A",
                  "BLUE HAPPY BIRTHDAY BUNTING",
                  "3",
                  "2011-10-10 16:06:00",
                  "5.45",
                  "12607.0",
                  "USA"
                ],
                [
                  "33",
                  "570467",
                  "47590B",
                  "PINK HAPPY BIRTHDAY BUNTING",
                  "3",
                  "2011-10-10 16:06:00",
                  "5.45",
                  "12607.0",
                  "USA"
                ],
                [
                  "34",
                  "570467",
                  "22974",
                  "CHILDRENS DOLLY GIRL MUG",
                  "12",
                  "2011-10-10 16:06:00",
                  "1.65",
                  "12607.0",
                  "USA"
                ],
                [
                  "35",
                  "570467",
                  "22972",
                  "CHILDREN'S SPACEBOY MUG",
                  "12",
                  "2011-10-10 16:06:00",
                  "1.65",
                  "12607.0",
                  "USA"
                ],
                [
                  "36",
                  "570467",
                  "22326",
                  "ROUND SNACK BOXES SET OF4 WOODLAND ",
                  "6",
                  "2011-10-10 16:06:00",
                  "2.95",
                  "12607.0",
                  "USA"
                ],
                [
                  "37",
                  "570467",
                  "21231",
                  "SWEETHEART CERAMIC TRINKET BOX",
                  "12",
                  "2011-10-10 16:06:00",
                  "1.25",
                  "12607.0",
                  "USA"
                ],
                [
                  "38",
                  "570467",
                  "21232",
                  "STRAWBERRY CERAMIC TRINKET BOX",
                  "12",
                  "2011-10-10 16:06:00",
                  "1.25",
                  "12607.0",
                  "USA"
                ],
                [
                  "39",
                  "570467",
                  "22949",
                  "36 DOILIES DOLLY GIRL",
                  "12",
                  "2011-10-10 16:06:00",
                  "1.45",
                  "12607.0",
                  "USA"
                ],
                [
                  "40",
                  "570467",
                  "21974",
                  "SET OF 36 PAISLEY FLOWER DOILIES",
                  "12",
                  "2011-10-10 16:06:00",
                  "1.45",
                  "12607.0",
                  "USA"
                ],
                [
                  "41",
                  "570467",
                  "84987",
                  "SET OF 36 TEATIME PAPER DOILIES",
                  "12",
                  "2011-10-10 16:06:00",
                  "1.45",
                  "12607.0",
                  "USA"
                ],
                [
                  "42",
                  "570467",
                  "84509A",
                  "SET OF 4 ENGLISH ROSE PLACEMATS",
                  "4",
                  "2011-10-10 16:06:00",
                  "3.75",
                  "12607.0",
                  "USA"
                ],
                [
                  "43",
                  "570467",
                  "37448",
                  "CERAMIC CAKE DESIGN SPOTTED MUG",
                  "12",
                  "2011-10-10 16:06:00",
                  "1.49",
                  "12607.0",
                  "USA"
                ],
                [
                  "44",
                  "570467",
                  "22649",
                  "STRAWBERRY FAIRY CAKE TEAPOT",
                  "8",
                  "2011-10-10 16:06:00",
                  "4.95",
                  "12607.0",
                  "USA"
                ],
                [
                  "45",
                  "570467",
                  "22951",
                  "60 CAKE CASES DOLLY GIRL DESIGN",
                  "24",
                  "2011-10-10 16:06:00",
                  "0.55",
                  "12607.0",
                  "USA"
                ],
                [
                  "46",
                  "570467",
                  "21976",
                  "PACK OF 60 MUSHROOM CAKE CASES",
                  "24",
                  "2011-10-10 16:06:00",
                  "0.55",
                  "12607.0",
                  "USA"
                ],
                [
                  "47",
                  "570467",
                  "22417",
                  "PACK OF 60 SPACEBOY CAKE CASES",
                  "24",
                  "2011-10-10 16:06:00",
                  "0.55",
                  "12607.0",
                  "USA"
                ],
                [
                  "48",
                  "570467",
                  "21212",
                  "PACK OF 72 RETROSPOT CAKE CASES",
                  "24",
                  "2011-10-10 16:06:00",
                  "0.55",
                  "12607.0",
                  "USA"
                ],
                [
                  "49",
                  "570467",
                  "22938",
                  "CUPCAKE LACE PAPER SET 6",
                  "12",
                  "2011-10-10 16:06:00",
                  "1.95",
                  "12607.0",
                  "USA"
                ]
              ],
              "shape": {
                "columns": 8,
                "rows": 541909
              }
            },
            "text/html": [
              "<div>\n",
              "<style scoped>\n",
              "    .dataframe tbody tr th:only-of-type {\n",
              "        vertical-align: middle;\n",
              "    }\n",
              "\n",
              "    .dataframe tbody tr th {\n",
              "        vertical-align: top;\n",
              "    }\n",
              "\n",
              "    .dataframe thead th {\n",
              "        text-align: right;\n",
              "    }\n",
              "</style>\n",
              "<table border=\"1\" class=\"dataframe\">\n",
              "  <thead>\n",
              "    <tr style=\"text-align: right;\">\n",
              "      <th></th>\n",
              "      <th>InvoiceNo</th>\n",
              "      <th>StockCode</th>\n",
              "      <th>Description</th>\n",
              "      <th>Quantity</th>\n",
              "      <th>InvoiceDate</th>\n",
              "      <th>UnitPrice</th>\n",
              "      <th>CustomerID</th>\n",
              "      <th>Country</th>\n",
              "    </tr>\n",
              "  </thead>\n",
              "  <tbody>\n",
              "    <tr>\n",
              "      <th>0</th>\n",
              "      <td>550644</td>\n",
              "      <td>22722</td>\n",
              "      <td>SET OF 6 SPICE TINS PANTRY DESIGN</td>\n",
              "      <td>7</td>\n",
              "      <td>2011-04-19 16:19:00</td>\n",
              "      <td>3.95</td>\n",
              "      <td>12733.0</td>\n",
              "      <td>USA</td>\n",
              "    </tr>\n",
              "    <tr>\n",
              "      <th>1</th>\n",
              "      <td>550644</td>\n",
              "      <td>22979</td>\n",
              "      <td>PANTRY WASHING UP BRUSH</td>\n",
              "      <td>2</td>\n",
              "      <td>2011-04-19 16:19:00</td>\n",
              "      <td>1.45</td>\n",
              "      <td>12733.0</td>\n",
              "      <td>USA</td>\n",
              "    </tr>\n",
              "    <tr>\n",
              "      <th>2</th>\n",
              "      <td>550644</td>\n",
              "      <td>84987</td>\n",
              "      <td>SET OF 36 TEATIME PAPER DOILIES</td>\n",
              "      <td>3</td>\n",
              "      <td>2011-04-19 16:19:00</td>\n",
              "      <td>1.45</td>\n",
              "      <td>12733.0</td>\n",
              "      <td>USA</td>\n",
              "    </tr>\n",
              "    <tr>\n",
              "      <th>3</th>\n",
              "      <td>550644</td>\n",
              "      <td>22720</td>\n",
              "      <td>SET OF 3 CAKE TINS PANTRY DESIGN</td>\n",
              "      <td>1</td>\n",
              "      <td>2011-04-19 16:19:00</td>\n",
              "      <td>4.95</td>\n",
              "      <td>12733.0</td>\n",
              "      <td>USA</td>\n",
              "    </tr>\n",
              "    <tr>\n",
              "      <th>4</th>\n",
              "      <td>550644</td>\n",
              "      <td>22993</td>\n",
              "      <td>SET OF 4 PANTRY JELLY MOULDS</td>\n",
              "      <td>1</td>\n",
              "      <td>2011-04-19 16:19:00</td>\n",
              "      <td>1.25</td>\n",
              "      <td>12733.0</td>\n",
              "      <td>USA</td>\n",
              "    </tr>\n",
              "    <tr>\n",
              "      <th>...</th>\n",
              "      <td>...</td>\n",
              "      <td>...</td>\n",
              "      <td>...</td>\n",
              "      <td>...</td>\n",
              "      <td>...</td>\n",
              "      <td>...</td>\n",
              "      <td>...</td>\n",
              "      <td>...</td>\n",
              "    </tr>\n",
              "    <tr>\n",
              "      <th>541904</th>\n",
              "      <td>581587</td>\n",
              "      <td>22613</td>\n",
              "      <td>PACK OF 20 SPACEBOY NAPKINS</td>\n",
              "      <td>12</td>\n",
              "      <td>2011-12-09 12:50:00</td>\n",
              "      <td>0.85</td>\n",
              "      <td>12680.0</td>\n",
              "      <td>France</td>\n",
              "    </tr>\n",
              "    <tr>\n",
              "      <th>541905</th>\n",
              "      <td>581587</td>\n",
              "      <td>22899</td>\n",
              "      <td>CHILDREN'S APRON DOLLY GIRL</td>\n",
              "      <td>6</td>\n",
              "      <td>2011-12-09 12:50:00</td>\n",
              "      <td>2.10</td>\n",
              "      <td>12680.0</td>\n",
              "      <td>France</td>\n",
              "    </tr>\n",
              "    <tr>\n",
              "      <th>541906</th>\n",
              "      <td>581587</td>\n",
              "      <td>23254</td>\n",
              "      <td>CHILDRENS CUTLERY DOLLY GIRL</td>\n",
              "      <td>4</td>\n",
              "      <td>2011-12-09 12:50:00</td>\n",
              "      <td>4.15</td>\n",
              "      <td>12680.0</td>\n",
              "      <td>France</td>\n",
              "    </tr>\n",
              "    <tr>\n",
              "      <th>541907</th>\n",
              "      <td>581587</td>\n",
              "      <td>23255</td>\n",
              "      <td>CHILDRENS CUTLERY CIRCUS PARADE</td>\n",
              "      <td>4</td>\n",
              "      <td>2011-12-09 12:50:00</td>\n",
              "      <td>4.15</td>\n",
              "      <td>12680.0</td>\n",
              "      <td>France</td>\n",
              "    </tr>\n",
              "    <tr>\n",
              "      <th>541908</th>\n",
              "      <td>581587</td>\n",
              "      <td>22138</td>\n",
              "      <td>BAKING SET 9 PIECE RETROSPOT</td>\n",
              "      <td>3</td>\n",
              "      <td>2011-12-09 12:50:00</td>\n",
              "      <td>4.95</td>\n",
              "      <td>12680.0</td>\n",
              "      <td>France</td>\n",
              "    </tr>\n",
              "  </tbody>\n",
              "</table>\n",
              "<p>541909 rows × 8 columns</p>\n",
              "</div>"
            ],
            "text/plain": [
              "       InvoiceNo StockCode                        Description  Quantity  \\\n",
              "0         550644     22722  SET OF 6 SPICE TINS PANTRY DESIGN         7   \n",
              "1         550644     22979            PANTRY WASHING UP BRUSH         2   \n",
              "2         550644     84987    SET OF 36 TEATIME PAPER DOILIES         3   \n",
              "3         550644     22720  SET OF 3 CAKE TINS PANTRY DESIGN          1   \n",
              "4         550644     22993       SET OF 4 PANTRY JELLY MOULDS         1   \n",
              "...          ...       ...                                ...       ...   \n",
              "541904    581587     22613        PACK OF 20 SPACEBOY NAPKINS        12   \n",
              "541905    581587     22899       CHILDREN'S APRON DOLLY GIRL          6   \n",
              "541906    581587     23254      CHILDRENS CUTLERY DOLLY GIRL          4   \n",
              "541907    581587     23255    CHILDRENS CUTLERY CIRCUS PARADE         4   \n",
              "541908    581587     22138      BAKING SET 9 PIECE RETROSPOT          3   \n",
              "\n",
              "               InvoiceDate  UnitPrice  CustomerID Country  \n",
              "0      2011-04-19 16:19:00       3.95     12733.0     USA  \n",
              "1      2011-04-19 16:19:00       1.45     12733.0     USA  \n",
              "2      2011-04-19 16:19:00       1.45     12733.0     USA  \n",
              "3      2011-04-19 16:19:00       4.95     12733.0     USA  \n",
              "4      2011-04-19 16:19:00       1.25     12733.0     USA  \n",
              "...                    ...        ...         ...     ...  \n",
              "541904 2011-12-09 12:50:00       0.85     12680.0  France  \n",
              "541905 2011-12-09 12:50:00       2.10     12680.0  France  \n",
              "541906 2011-12-09 12:50:00       4.15     12680.0  France  \n",
              "541907 2011-12-09 12:50:00       4.15     12680.0  France  \n",
              "541908 2011-12-09 12:50:00       4.95     12680.0  France  \n",
              "\n",
              "[541909 rows x 8 columns]"
            ]
          },
          "execution_count": 3,
          "metadata": {},
          "output_type": "execute_result"
        }
      ],
      "source": [
        "ecommerce_df"
      ]
    },
    {
      "cell_type": "markdown",
      "metadata": {
        "id": "82gUJq7ye7Sm"
      },
      "source": [
        "==========================================="
      ]
    },
    {
      "cell_type": "markdown",
      "metadata": {
        "id": "wKKCbdn0-XNz"
      },
      "source": [
        "## Propiedades básicas."
      ]
    },
    {
      "cell_type": "markdown",
      "metadata": {
        "id": "kcWyPJel_7js"
      },
      "source": [
        "2. Cambie los nombres de columnas del dataset a:\n",
        "```\n",
        "[nroFactura, codigoStock, descripcion, cantidad, fechaFactura, precioUnidad, idCliente, pais]\n",
        "```"
      ]
    },
    {
      "cell_type": "code",
      "execution_count": 4,
      "metadata": {},
      "outputs": [
        {
          "data": {
            "application/vnd.microsoft.datawrangler.viewer.v0+json": {
              "columns": [
                {
                  "name": "index",
                  "rawType": "int64",
                  "type": "integer"
                },
                {
                  "name": "nroFactura",
                  "rawType": "object",
                  "type": "unknown"
                },
                {
                  "name": "codigoStock",
                  "rawType": "object",
                  "type": "unknown"
                },
                {
                  "name": "descripcion",
                  "rawType": "object",
                  "type": "unknown"
                },
                {
                  "name": "cantidad",
                  "rawType": "int64",
                  "type": "integer"
                },
                {
                  "name": "fechaFactura",
                  "rawType": "datetime64[ns]",
                  "type": "datetime"
                },
                {
                  "name": "precioUnidad",
                  "rawType": "float64",
                  "type": "float"
                },
                {
                  "name": "idCliente",
                  "rawType": "float64",
                  "type": "float"
                },
                {
                  "name": "pais",
                  "rawType": "object",
                  "type": "string"
                }
              ],
              "ref": "c6a7d953-1412-46f1-9231-92b6d908911a",
              "rows": [
                [
                  "0",
                  "550644",
                  "22722",
                  "SET OF 6 SPICE TINS PANTRY DESIGN",
                  "7",
                  "2011-04-19 16:19:00",
                  "3.95",
                  "12733.0",
                  "USA"
                ],
                [
                  "1",
                  "550644",
                  "22979",
                  "PANTRY WASHING UP BRUSH",
                  "2",
                  "2011-04-19 16:19:00",
                  "1.45",
                  "12733.0",
                  "USA"
                ],
                [
                  "2",
                  "550644",
                  "84987",
                  "SET OF 36 TEATIME PAPER DOILIES",
                  "3",
                  "2011-04-19 16:19:00",
                  "1.45",
                  "12733.0",
                  "USA"
                ],
                [
                  "3",
                  "550644",
                  "22720",
                  "SET OF 3 CAKE TINS PANTRY DESIGN ",
                  "1",
                  "2011-04-19 16:19:00",
                  "4.95",
                  "12733.0",
                  "USA"
                ],
                [
                  "4",
                  "550644",
                  "22993",
                  "SET OF 4 PANTRY JELLY MOULDS",
                  "1",
                  "2011-04-19 16:19:00",
                  "1.25",
                  "12733.0",
                  "USA"
                ],
                [
                  "5",
                  "550644",
                  "47580",
                  "TEA TIME DES TEA COSY",
                  "3",
                  "2011-04-19 16:19:00",
                  "2.55",
                  "12733.0",
                  "USA"
                ],
                [
                  "6",
                  "550644",
                  "22989",
                  "SET 2 PANTRY DESIGN TEA TOWELS",
                  "6",
                  "2011-04-19 16:19:00",
                  "3.25",
                  "12733.0",
                  "USA"
                ],
                [
                  "7",
                  "550644",
                  "22900",
                  " SET 2 TEA TOWELS I LOVE LONDON ",
                  "3",
                  "2011-04-19 16:19:00",
                  "3.25",
                  "12733.0",
                  "USA"
                ],
                [
                  "8",
                  "550644",
                  "22128",
                  "PARTY CONES CANDY ASSORTED",
                  "12",
                  "2011-04-19 16:19:00",
                  "1.25",
                  "12733.0",
                  "USA"
                ],
                [
                  "9",
                  "550644",
                  "47590B",
                  "PINK HAPPY BIRTHDAY BUNTING",
                  "4",
                  "2011-04-19 16:19:00",
                  "5.45",
                  "12733.0",
                  "USA"
                ],
                [
                  "10",
                  "550644",
                  "22965",
                  "3 TRADITIONAl BISCUIT CUTTERS  SET",
                  "2",
                  "2011-04-19 16:19:00",
                  "2.1",
                  "12733.0",
                  "USA"
                ],
                [
                  "11",
                  "550644",
                  "22088",
                  "PAPER BUNTING COLOURED LACE",
                  "6",
                  "2011-04-19 16:19:00",
                  "2.95",
                  "12733.0",
                  "USA"
                ],
                [
                  "12",
                  "550644",
                  "22990",
                  "COTTON APRON PANTRY DESIGN",
                  "5",
                  "2011-04-19 16:19:00",
                  "4.95",
                  "12733.0",
                  "USA"
                ],
                [
                  "13",
                  "550644",
                  "22129",
                  "PARTY CONES CANDY TREE DECORATION",
                  "36",
                  "2011-04-19 16:19:00",
                  "0.85",
                  "12733.0",
                  "USA"
                ],
                [
                  "14",
                  "550644",
                  "21067",
                  "VINTAGE RED TEATIME MUG",
                  "6",
                  "2011-04-19 16:19:00",
                  "1.25",
                  "12733.0",
                  "USA"
                ],
                [
                  "15",
                  "550644",
                  "22149",
                  "FELTCRAFT 6 FLOWER FRIENDS",
                  "6",
                  "2011-04-19 16:19:00",
                  "2.1",
                  "12733.0",
                  "USA"
                ],
                [
                  "16",
                  "550644",
                  "22147",
                  "FELTCRAFT BUTTERFLY HEARTS",
                  "7",
                  "2011-04-19 16:19:00",
                  "1.45",
                  "12733.0",
                  "USA"
                ],
                [
                  "17",
                  "550644",
                  "22301",
                  "COFFEE MUG CAT + BIRD DESIGN",
                  "6",
                  "2011-04-19 16:19:00",
                  "2.55",
                  "12733.0",
                  "USA"
                ],
                [
                  "18",
                  "550644",
                  "22970",
                  "LONDON BUS COFFEE MUG",
                  "6",
                  "2011-04-19 16:19:00",
                  "2.55",
                  "12733.0",
                  "USA"
                ],
                [
                  "19",
                  "550644",
                  "22423",
                  "REGENCY CAKESTAND 3 TIER",
                  "6",
                  "2011-04-19 16:19:00",
                  "12.75",
                  "12733.0",
                  "USA"
                ],
                [
                  "20",
                  "550644",
                  "37501",
                  "TEA TIME TEA SET IN GIFT BOX",
                  "5",
                  "2011-04-19 16:19:00",
                  "6.95",
                  "12733.0",
                  "USA"
                ],
                [
                  "21",
                  "550644",
                  "37500",
                  "TEA TIME TEAPOT IN GIFT BOX",
                  "4",
                  "2011-04-19 16:19:00",
                  "4.95",
                  "12733.0",
                  "USA"
                ],
                [
                  "22",
                  "570467",
                  "22551",
                  "PLASTERS IN TIN SPACEBOY",
                  "12",
                  "2011-10-10 16:06:00",
                  "1.65",
                  "12607.0",
                  "USA"
                ],
                [
                  "23",
                  "570467",
                  "21915",
                  "RED  HARMONICA IN BOX ",
                  "12",
                  "2011-10-10 16:06:00",
                  "1.25",
                  "12607.0",
                  "USA"
                ],
                [
                  "24",
                  "570467",
                  "22619",
                  "SET OF 6 SOLDIER SKITTLES",
                  "4",
                  "2011-10-10 16:06:00",
                  "3.75",
                  "12607.0",
                  "USA"
                ],
                [
                  "25",
                  "570467",
                  "22138",
                  "BAKING SET 9 PIECE RETROSPOT ",
                  "3",
                  "2011-10-10 16:06:00",
                  "4.95",
                  "12607.0",
                  "USA"
                ],
                [
                  "26",
                  "570467",
                  "21524",
                  "DOORMAT SPOTTY HOME SWEET HOME",
                  "2",
                  "2011-10-10 16:06:00",
                  "8.25",
                  "12607.0",
                  "USA"
                ],
                [
                  "27",
                  "570467",
                  "21668",
                  "RED STRIPE CERAMIC DRAWER KNOB",
                  "12",
                  "2011-10-10 16:06:00",
                  "1.45",
                  "12607.0",
                  "USA"
                ],
                [
                  "28",
                  "570467",
                  "21671",
                  "RED SPOT CERAMIC DRAWER KNOB",
                  "12",
                  "2011-10-10 16:06:00",
                  "1.45",
                  "12607.0",
                  "USA"
                ],
                [
                  "29",
                  "570467",
                  "21669",
                  "BLUE STRIPE CERAMIC DRAWER KNOB",
                  "12",
                  "2011-10-10 16:06:00",
                  "1.45",
                  "12607.0",
                  "USA"
                ],
                [
                  "30",
                  "570467",
                  "22090",
                  "PAPER BUNTING RETROSPOT",
                  "6",
                  "2011-10-10 16:06:00",
                  "2.95",
                  "12607.0",
                  "USA"
                ],
                [
                  "31",
                  "570467",
                  "22668",
                  "PINK BABY BUNTING",
                  "5",
                  "2011-10-10 16:06:00",
                  "2.95",
                  "12607.0",
                  "USA"
                ],
                [
                  "32",
                  "570467",
                  "47590A",
                  "BLUE HAPPY BIRTHDAY BUNTING",
                  "3",
                  "2011-10-10 16:06:00",
                  "5.45",
                  "12607.0",
                  "USA"
                ],
                [
                  "33",
                  "570467",
                  "47590B",
                  "PINK HAPPY BIRTHDAY BUNTING",
                  "3",
                  "2011-10-10 16:06:00",
                  "5.45",
                  "12607.0",
                  "USA"
                ],
                [
                  "34",
                  "570467",
                  "22974",
                  "CHILDRENS DOLLY GIRL MUG",
                  "12",
                  "2011-10-10 16:06:00",
                  "1.65",
                  "12607.0",
                  "USA"
                ],
                [
                  "35",
                  "570467",
                  "22972",
                  "CHILDREN'S SPACEBOY MUG",
                  "12",
                  "2011-10-10 16:06:00",
                  "1.65",
                  "12607.0",
                  "USA"
                ],
                [
                  "36",
                  "570467",
                  "22326",
                  "ROUND SNACK BOXES SET OF4 WOODLAND ",
                  "6",
                  "2011-10-10 16:06:00",
                  "2.95",
                  "12607.0",
                  "USA"
                ],
                [
                  "37",
                  "570467",
                  "21231",
                  "SWEETHEART CERAMIC TRINKET BOX",
                  "12",
                  "2011-10-10 16:06:00",
                  "1.25",
                  "12607.0",
                  "USA"
                ],
                [
                  "38",
                  "570467",
                  "21232",
                  "STRAWBERRY CERAMIC TRINKET BOX",
                  "12",
                  "2011-10-10 16:06:00",
                  "1.25",
                  "12607.0",
                  "USA"
                ],
                [
                  "39",
                  "570467",
                  "22949",
                  "36 DOILIES DOLLY GIRL",
                  "12",
                  "2011-10-10 16:06:00",
                  "1.45",
                  "12607.0",
                  "USA"
                ],
                [
                  "40",
                  "570467",
                  "21974",
                  "SET OF 36 PAISLEY FLOWER DOILIES",
                  "12",
                  "2011-10-10 16:06:00",
                  "1.45",
                  "12607.0",
                  "USA"
                ],
                [
                  "41",
                  "570467",
                  "84987",
                  "SET OF 36 TEATIME PAPER DOILIES",
                  "12",
                  "2011-10-10 16:06:00",
                  "1.45",
                  "12607.0",
                  "USA"
                ],
                [
                  "42",
                  "570467",
                  "84509A",
                  "SET OF 4 ENGLISH ROSE PLACEMATS",
                  "4",
                  "2011-10-10 16:06:00",
                  "3.75",
                  "12607.0",
                  "USA"
                ],
                [
                  "43",
                  "570467",
                  "37448",
                  "CERAMIC CAKE DESIGN SPOTTED MUG",
                  "12",
                  "2011-10-10 16:06:00",
                  "1.49",
                  "12607.0",
                  "USA"
                ],
                [
                  "44",
                  "570467",
                  "22649",
                  "STRAWBERRY FAIRY CAKE TEAPOT",
                  "8",
                  "2011-10-10 16:06:00",
                  "4.95",
                  "12607.0",
                  "USA"
                ],
                [
                  "45",
                  "570467",
                  "22951",
                  "60 CAKE CASES DOLLY GIRL DESIGN",
                  "24",
                  "2011-10-10 16:06:00",
                  "0.55",
                  "12607.0",
                  "USA"
                ],
                [
                  "46",
                  "570467",
                  "21976",
                  "PACK OF 60 MUSHROOM CAKE CASES",
                  "24",
                  "2011-10-10 16:06:00",
                  "0.55",
                  "12607.0",
                  "USA"
                ],
                [
                  "47",
                  "570467",
                  "22417",
                  "PACK OF 60 SPACEBOY CAKE CASES",
                  "24",
                  "2011-10-10 16:06:00",
                  "0.55",
                  "12607.0",
                  "USA"
                ],
                [
                  "48",
                  "570467",
                  "21212",
                  "PACK OF 72 RETROSPOT CAKE CASES",
                  "24",
                  "2011-10-10 16:06:00",
                  "0.55",
                  "12607.0",
                  "USA"
                ],
                [
                  "49",
                  "570467",
                  "22938",
                  "CUPCAKE LACE PAPER SET 6",
                  "12",
                  "2011-10-10 16:06:00",
                  "1.95",
                  "12607.0",
                  "USA"
                ]
              ],
              "shape": {
                "columns": 8,
                "rows": 541909
              }
            },
            "text/html": [
              "<div>\n",
              "<style scoped>\n",
              "    .dataframe tbody tr th:only-of-type {\n",
              "        vertical-align: middle;\n",
              "    }\n",
              "\n",
              "    .dataframe tbody tr th {\n",
              "        vertical-align: top;\n",
              "    }\n",
              "\n",
              "    .dataframe thead th {\n",
              "        text-align: right;\n",
              "    }\n",
              "</style>\n",
              "<table border=\"1\" class=\"dataframe\">\n",
              "  <thead>\n",
              "    <tr style=\"text-align: right;\">\n",
              "      <th></th>\n",
              "      <th>nroFactura</th>\n",
              "      <th>codigoStock</th>\n",
              "      <th>descripcion</th>\n",
              "      <th>cantidad</th>\n",
              "      <th>fechaFactura</th>\n",
              "      <th>precioUnidad</th>\n",
              "      <th>idCliente</th>\n",
              "      <th>pais</th>\n",
              "    </tr>\n",
              "  </thead>\n",
              "  <tbody>\n",
              "    <tr>\n",
              "      <th>0</th>\n",
              "      <td>550644</td>\n",
              "      <td>22722</td>\n",
              "      <td>SET OF 6 SPICE TINS PANTRY DESIGN</td>\n",
              "      <td>7</td>\n",
              "      <td>2011-04-19 16:19:00</td>\n",
              "      <td>3.95</td>\n",
              "      <td>12733.0</td>\n",
              "      <td>USA</td>\n",
              "    </tr>\n",
              "    <tr>\n",
              "      <th>1</th>\n",
              "      <td>550644</td>\n",
              "      <td>22979</td>\n",
              "      <td>PANTRY WASHING UP BRUSH</td>\n",
              "      <td>2</td>\n",
              "      <td>2011-04-19 16:19:00</td>\n",
              "      <td>1.45</td>\n",
              "      <td>12733.0</td>\n",
              "      <td>USA</td>\n",
              "    </tr>\n",
              "    <tr>\n",
              "      <th>2</th>\n",
              "      <td>550644</td>\n",
              "      <td>84987</td>\n",
              "      <td>SET OF 36 TEATIME PAPER DOILIES</td>\n",
              "      <td>3</td>\n",
              "      <td>2011-04-19 16:19:00</td>\n",
              "      <td>1.45</td>\n",
              "      <td>12733.0</td>\n",
              "      <td>USA</td>\n",
              "    </tr>\n",
              "    <tr>\n",
              "      <th>3</th>\n",
              "      <td>550644</td>\n",
              "      <td>22720</td>\n",
              "      <td>SET OF 3 CAKE TINS PANTRY DESIGN</td>\n",
              "      <td>1</td>\n",
              "      <td>2011-04-19 16:19:00</td>\n",
              "      <td>4.95</td>\n",
              "      <td>12733.0</td>\n",
              "      <td>USA</td>\n",
              "    </tr>\n",
              "    <tr>\n",
              "      <th>4</th>\n",
              "      <td>550644</td>\n",
              "      <td>22993</td>\n",
              "      <td>SET OF 4 PANTRY JELLY MOULDS</td>\n",
              "      <td>1</td>\n",
              "      <td>2011-04-19 16:19:00</td>\n",
              "      <td>1.25</td>\n",
              "      <td>12733.0</td>\n",
              "      <td>USA</td>\n",
              "    </tr>\n",
              "    <tr>\n",
              "      <th>...</th>\n",
              "      <td>...</td>\n",
              "      <td>...</td>\n",
              "      <td>...</td>\n",
              "      <td>...</td>\n",
              "      <td>...</td>\n",
              "      <td>...</td>\n",
              "      <td>...</td>\n",
              "      <td>...</td>\n",
              "    </tr>\n",
              "    <tr>\n",
              "      <th>541904</th>\n",
              "      <td>581587</td>\n",
              "      <td>22613</td>\n",
              "      <td>PACK OF 20 SPACEBOY NAPKINS</td>\n",
              "      <td>12</td>\n",
              "      <td>2011-12-09 12:50:00</td>\n",
              "      <td>0.85</td>\n",
              "      <td>12680.0</td>\n",
              "      <td>France</td>\n",
              "    </tr>\n",
              "    <tr>\n",
              "      <th>541905</th>\n",
              "      <td>581587</td>\n",
              "      <td>22899</td>\n",
              "      <td>CHILDREN'S APRON DOLLY GIRL</td>\n",
              "      <td>6</td>\n",
              "      <td>2011-12-09 12:50:00</td>\n",
              "      <td>2.10</td>\n",
              "      <td>12680.0</td>\n",
              "      <td>France</td>\n",
              "    </tr>\n",
              "    <tr>\n",
              "      <th>541906</th>\n",
              "      <td>581587</td>\n",
              "      <td>23254</td>\n",
              "      <td>CHILDRENS CUTLERY DOLLY GIRL</td>\n",
              "      <td>4</td>\n",
              "      <td>2011-12-09 12:50:00</td>\n",
              "      <td>4.15</td>\n",
              "      <td>12680.0</td>\n",
              "      <td>France</td>\n",
              "    </tr>\n",
              "    <tr>\n",
              "      <th>541907</th>\n",
              "      <td>581587</td>\n",
              "      <td>23255</td>\n",
              "      <td>CHILDRENS CUTLERY CIRCUS PARADE</td>\n",
              "      <td>4</td>\n",
              "      <td>2011-12-09 12:50:00</td>\n",
              "      <td>4.15</td>\n",
              "      <td>12680.0</td>\n",
              "      <td>France</td>\n",
              "    </tr>\n",
              "    <tr>\n",
              "      <th>541908</th>\n",
              "      <td>581587</td>\n",
              "      <td>22138</td>\n",
              "      <td>BAKING SET 9 PIECE RETROSPOT</td>\n",
              "      <td>3</td>\n",
              "      <td>2011-12-09 12:50:00</td>\n",
              "      <td>4.95</td>\n",
              "      <td>12680.0</td>\n",
              "      <td>France</td>\n",
              "    </tr>\n",
              "  </tbody>\n",
              "</table>\n",
              "<p>541909 rows × 8 columns</p>\n",
              "</div>"
            ],
            "text/plain": [
              "       nroFactura codigoStock                        descripcion  cantidad  \\\n",
              "0          550644       22722  SET OF 6 SPICE TINS PANTRY DESIGN         7   \n",
              "1          550644       22979            PANTRY WASHING UP BRUSH         2   \n",
              "2          550644       84987    SET OF 36 TEATIME PAPER DOILIES         3   \n",
              "3          550644       22720  SET OF 3 CAKE TINS PANTRY DESIGN          1   \n",
              "4          550644       22993       SET OF 4 PANTRY JELLY MOULDS         1   \n",
              "...           ...         ...                                ...       ...   \n",
              "541904     581587       22613        PACK OF 20 SPACEBOY NAPKINS        12   \n",
              "541905     581587       22899       CHILDREN'S APRON DOLLY GIRL          6   \n",
              "541906     581587       23254      CHILDRENS CUTLERY DOLLY GIRL          4   \n",
              "541907     581587       23255    CHILDRENS CUTLERY CIRCUS PARADE         4   \n",
              "541908     581587       22138      BAKING SET 9 PIECE RETROSPOT          3   \n",
              "\n",
              "              fechaFactura  precioUnidad  idCliente    pais  \n",
              "0      2011-04-19 16:19:00          3.95    12733.0     USA  \n",
              "1      2011-04-19 16:19:00          1.45    12733.0     USA  \n",
              "2      2011-04-19 16:19:00          1.45    12733.0     USA  \n",
              "3      2011-04-19 16:19:00          4.95    12733.0     USA  \n",
              "4      2011-04-19 16:19:00          1.25    12733.0     USA  \n",
              "...                    ...           ...        ...     ...  \n",
              "541904 2011-12-09 12:50:00          0.85    12680.0  France  \n",
              "541905 2011-12-09 12:50:00          2.10    12680.0  France  \n",
              "541906 2011-12-09 12:50:00          4.15    12680.0  France  \n",
              "541907 2011-12-09 12:50:00          4.15    12680.0  France  \n",
              "541908 2011-12-09 12:50:00          4.95    12680.0  France  \n",
              "\n",
              "[541909 rows x 8 columns]"
            ]
          },
          "execution_count": 4,
          "metadata": {},
          "output_type": "execute_result"
        }
      ],
      "source": [
        "ecommerce_df.columns = [\n",
        "    'nroFactura', \n",
        "    'codigoStock', \n",
        "    'descripcion', \n",
        "    'cantidad', \n",
        "    'fechaFactura', \n",
        "    'precioUnidad', \n",
        "    'idCliente', \n",
        "    'pais'\n",
        "]\n",
        "\n",
        "ecommerce_df"
      ]
    },
    {
      "cell_type": "markdown",
      "metadata": {
        "id": "Z6g9L02xPuuM"
      },
      "source": [
        "3. ¿El dataset está listo para análisis rápido y confiable?. Responder las siguientes preguntas.\n",
        "\n",
        "- ¿Cuántas filas y columnas tiene el dataset?\n",
        "- ¿Qué tipo de dato presenta cada columna?\n",
        "- ¿Cuántos valores faltantes hay en idCliente y en descripcion? (df.isna().sum())  \n",
        "Nota: Para más información sobre isna revisar [aquí](https://pandas.pydata.org/docs/reference/api/pandas.DataFrame.isna.html)"
      ]
    },
    {
      "cell_type": "code",
      "execution_count": 5,
      "metadata": {},
      "outputs": [
        {
          "name": "stdout",
          "output_type": "stream",
          "text": [
            "El dataset tiene 541909 filas y 8 columnas.\n"
          ]
        }
      ],
      "source": [
        "filas, columnas = ecommerce_df.shape\n",
        "print(f\"El dataset tiene {filas} filas y {columnas} columnas.\")"
      ]
    },
    {
      "cell_type": "code",
      "execution_count": 6,
      "metadata": {},
      "outputs": [
        {
          "name": "stdout",
          "output_type": "stream",
          "text": [
            "Tipo de dato de cada columna:\n",
            "nroFactura              object\n",
            "codigoStock             object\n",
            "descripcion             object\n",
            "cantidad                 int64\n",
            "fechaFactura    datetime64[ns]\n",
            "precioUnidad           float64\n",
            "idCliente              float64\n",
            "pais                    object\n",
            "dtype: object\n"
          ]
        }
      ],
      "source": [
        "print(\"Tipo de dato de cada columna:\")\n",
        "print(ecommerce_df.dtypes)"
      ]
    },
    {
      "cell_type": "code",
      "execution_count": 7,
      "metadata": {},
      "outputs": [
        {
          "name": "stdout",
          "output_type": "stream",
          "text": [
            "Valores faltantes en idCliente: 135080\n",
            "Valores faltantes en descripcion: 1454\n"
          ]
        }
      ],
      "source": [
        "print(\"Valores faltantes en idCliente:\", ecommerce_df['idCliente'].isna().sum())\n",
        "print(\"Valores faltantes en descripcion:\", ecommerce_df['descripcion'].isna().sum())"
      ]
    },
    {
      "cell_type": "markdown",
      "metadata": {
        "id": "UHDIraLdXAPV"
      },
      "source": [
        "4. De lo anterior analice, ¿qué se podría hacer con las facturas sin clientes registrados?\n",
        "\n",
        "- Si se va a realizar análisis de clientes es recomendable eliminarlas.\n",
        "- Si es para análisis de ventas totales se puede mantener."
      ]
    },
    {
      "cell_type": "markdown",
      "metadata": {
        "id": "K-aj43cuRFPn"
      },
      "source": [
        "5. Finanzas necesita entender la magnitud de unidades y precios para presupuestar.  \n",
        "¿Cuál es la factura con mayor cantidad y cuál con mayor precioUnidad?  \n",
        "Nota: Puede revisar el método [nlargest](https://pandas.pydata.org/docs/reference/api/pandas.DataFrame.nlargest.html),  [nsmallest](https://pandas.pydata.org/docs/reference/api/pandas.DataFrame.nsmallest.html) y\n",
        "[sort_values](https://pandas.pydata.org/docs/reference/api/pandas.DataFrame.sort_values.html)"
      ]
    },
    {
      "cell_type": "code",
      "execution_count": 8,
      "metadata": {},
      "outputs": [
        {
          "name": "stdout",
          "output_type": "stream",
          "text": [
            "Factura con mayor cantidad:\n"
          ]
        },
        {
          "data": {
            "application/vnd.microsoft.datawrangler.viewer.v0+json": {
              "columns": [
                {
                  "name": "index",
                  "rawType": "int64",
                  "type": "integer"
                },
                {
                  "name": "nroFactura",
                  "rawType": "object",
                  "type": "string"
                },
                {
                  "name": "codigoStock",
                  "rawType": "object",
                  "type": "string"
                },
                {
                  "name": "descripcion",
                  "rawType": "object",
                  "type": "string"
                },
                {
                  "name": "cantidad",
                  "rawType": "int64",
                  "type": "integer"
                },
                {
                  "name": "fechaFactura",
                  "rawType": "datetime64[ns]",
                  "type": "datetime"
                },
                {
                  "name": "precioUnidad",
                  "rawType": "float64",
                  "type": "float"
                },
                {
                  "name": "idCliente",
                  "rawType": "float64",
                  "type": "float"
                },
                {
                  "name": "pais",
                  "rawType": "object",
                  "type": "string"
                }
              ],
              "ref": "83d70f0f-9892-48a6-b9e3-90bc6651e3ba",
              "rows": [
                [
                  "522484",
                  "581483",
                  "23843",
                  "PAPER CRAFT , LITTLE BIRDIE",
                  "80995",
                  "2011-12-09 09:15:00",
                  "2.08",
                  "16446.0",
                  "United Kingdom"
                ]
              ],
              "shape": {
                "columns": 8,
                "rows": 1
              }
            },
            "text/html": [
              "<div>\n",
              "<style scoped>\n",
              "    .dataframe tbody tr th:only-of-type {\n",
              "        vertical-align: middle;\n",
              "    }\n",
              "\n",
              "    .dataframe tbody tr th {\n",
              "        vertical-align: top;\n",
              "    }\n",
              "\n",
              "    .dataframe thead th {\n",
              "        text-align: right;\n",
              "    }\n",
              "</style>\n",
              "<table border=\"1\" class=\"dataframe\">\n",
              "  <thead>\n",
              "    <tr style=\"text-align: right;\">\n",
              "      <th></th>\n",
              "      <th>nroFactura</th>\n",
              "      <th>codigoStock</th>\n",
              "      <th>descripcion</th>\n",
              "      <th>cantidad</th>\n",
              "      <th>fechaFactura</th>\n",
              "      <th>precioUnidad</th>\n",
              "      <th>idCliente</th>\n",
              "      <th>pais</th>\n",
              "    </tr>\n",
              "  </thead>\n",
              "  <tbody>\n",
              "    <tr>\n",
              "      <th>522484</th>\n",
              "      <td>581483</td>\n",
              "      <td>23843</td>\n",
              "      <td>PAPER CRAFT , LITTLE BIRDIE</td>\n",
              "      <td>80995</td>\n",
              "      <td>2011-12-09 09:15:00</td>\n",
              "      <td>2.08</td>\n",
              "      <td>16446.0</td>\n",
              "      <td>United Kingdom</td>\n",
              "    </tr>\n",
              "  </tbody>\n",
              "</table>\n",
              "</div>"
            ],
            "text/plain": [
              "       nroFactura codigoStock                  descripcion  cantidad  \\\n",
              "522484     581483       23843  PAPER CRAFT , LITTLE BIRDIE     80995   \n",
              "\n",
              "              fechaFactura  precioUnidad  idCliente            pais  \n",
              "522484 2011-12-09 09:15:00          2.08    16446.0  United Kingdom  "
            ]
          },
          "execution_count": 8,
          "metadata": {},
          "output_type": "execute_result"
        }
      ],
      "source": [
        "factura_mayor_cantidad = ecommerce_df.nlargest(1, 'cantidad')\n",
        "print(\"Factura con mayor cantidad:\")\n",
        "factura_mayor_cantidad"
      ]
    },
    {
      "cell_type": "code",
      "execution_count": 9,
      "metadata": {},
      "outputs": [
        {
          "name": "stdout",
          "output_type": "stream",
          "text": [
            "\n",
            "Factura con mayor precioUnidad:\n"
          ]
        },
        {
          "data": {
            "application/vnd.microsoft.datawrangler.viewer.v0+json": {
              "columns": [
                {
                  "name": "index",
                  "rawType": "int64",
                  "type": "integer"
                },
                {
                  "name": "nroFactura",
                  "rawType": "object",
                  "type": "string"
                },
                {
                  "name": "codigoStock",
                  "rawType": "object",
                  "type": "string"
                },
                {
                  "name": "descripcion",
                  "rawType": "object",
                  "type": "string"
                },
                {
                  "name": "cantidad",
                  "rawType": "int64",
                  "type": "integer"
                },
                {
                  "name": "fechaFactura",
                  "rawType": "datetime64[ns]",
                  "type": "datetime"
                },
                {
                  "name": "precioUnidad",
                  "rawType": "float64",
                  "type": "float"
                },
                {
                  "name": "idCliente",
                  "rawType": "float64",
                  "type": "float"
                },
                {
                  "name": "pais",
                  "rawType": "object",
                  "type": "string"
                }
              ],
              "ref": "49ca27e1-3b13-4915-823c-4630108cba5c",
              "rows": [
                [
                  "233270",
                  "C556445",
                  "M",
                  "Manual",
                  "-1",
                  "2011-06-10 15:31:00",
                  "38970.0",
                  "15098.0",
                  "United Kingdom"
                ]
              ],
              "shape": {
                "columns": 8,
                "rows": 1
              }
            },
            "text/html": [
              "<div>\n",
              "<style scoped>\n",
              "    .dataframe tbody tr th:only-of-type {\n",
              "        vertical-align: middle;\n",
              "    }\n",
              "\n",
              "    .dataframe tbody tr th {\n",
              "        vertical-align: top;\n",
              "    }\n",
              "\n",
              "    .dataframe thead th {\n",
              "        text-align: right;\n",
              "    }\n",
              "</style>\n",
              "<table border=\"1\" class=\"dataframe\">\n",
              "  <thead>\n",
              "    <tr style=\"text-align: right;\">\n",
              "      <th></th>\n",
              "      <th>nroFactura</th>\n",
              "      <th>codigoStock</th>\n",
              "      <th>descripcion</th>\n",
              "      <th>cantidad</th>\n",
              "      <th>fechaFactura</th>\n",
              "      <th>precioUnidad</th>\n",
              "      <th>idCliente</th>\n",
              "      <th>pais</th>\n",
              "    </tr>\n",
              "  </thead>\n",
              "  <tbody>\n",
              "    <tr>\n",
              "      <th>233270</th>\n",
              "      <td>C556445</td>\n",
              "      <td>M</td>\n",
              "      <td>Manual</td>\n",
              "      <td>-1</td>\n",
              "      <td>2011-06-10 15:31:00</td>\n",
              "      <td>38970.0</td>\n",
              "      <td>15098.0</td>\n",
              "      <td>United Kingdom</td>\n",
              "    </tr>\n",
              "  </tbody>\n",
              "</table>\n",
              "</div>"
            ],
            "text/plain": [
              "       nroFactura codigoStock descripcion  cantidad        fechaFactura  \\\n",
              "233270    C556445           M      Manual        -1 2011-06-10 15:31:00   \n",
              "\n",
              "        precioUnidad  idCliente            pais  \n",
              "233270       38970.0    15098.0  United Kingdom  "
            ]
          },
          "execution_count": 9,
          "metadata": {},
          "output_type": "execute_result"
        }
      ],
      "source": [
        "factura_mayor_precio = ecommerce_df.nlargest(1, 'precioUnidad')\n",
        "print(\"\\nFactura con mayor precioUnidad:\")\n",
        "factura_mayor_precio"
      ]
    },
    {
      "cell_type": "markdown",
      "metadata": {
        "id": "Yz3mKengNJkV"
      },
      "source": [
        "## Indexación"
      ]
    },
    {
      "cell_type": "markdown",
      "metadata": {
        "id": "ZOmyJpbBS1Ol"
      },
      "source": [
        "6. Selecciona todas las facturas de mayo de 2011."
      ]
    },
    {
      "cell_type": "code",
      "execution_count": 10,
      "metadata": {},
      "outputs": [
        {
          "data": {
            "application/vnd.microsoft.datawrangler.viewer.v0+json": {
              "columns": [
                {
                  "name": "index",
                  "rawType": "int64",
                  "type": "integer"
                },
                {
                  "name": "nroFactura",
                  "rawType": "object",
                  "type": "unknown"
                },
                {
                  "name": "codigoStock",
                  "rawType": "object",
                  "type": "string"
                },
                {
                  "name": "descripcion",
                  "rawType": "object",
                  "type": "unknown"
                },
                {
                  "name": "cantidad",
                  "rawType": "int64",
                  "type": "integer"
                },
                {
                  "name": "fechaFactura",
                  "rawType": "datetime64[ns]",
                  "type": "datetime"
                },
                {
                  "name": "precioUnidad",
                  "rawType": "float64",
                  "type": "float"
                },
                {
                  "name": "idCliente",
                  "rawType": "float64",
                  "type": "float"
                },
                {
                  "name": "pais",
                  "rawType": "object",
                  "type": "string"
                }
              ],
              "ref": "74a28cad-5b55-44de-aa31-df1eadafd92c",
              "rows": [
                [
                  "435",
                  "C551585",
                  "22779",
                  "WOODEN OWLS LIGHT GARLAND ",
                  "-2",
                  "2011-05-03 11:23:00",
                  "4.25",
                  "12483.0",
                  "Sweden"
                ],
                [
                  "436",
                  "C551864",
                  "22779",
                  "WOODEN OWLS LIGHT GARLAND ",
                  "-2",
                  "2011-05-04 16:18:00",
                  "4.25",
                  "12483.0",
                  "Sweden"
                ],
                [
                  "437",
                  "552717",
                  "22779",
                  "WOODEN OWLS LIGHT GARLAND ",
                  "2",
                  "2011-05-11 09:42:00",
                  "4.25",
                  "12483.0",
                  "Sweden"
                ],
                [
                  "438",
                  "552957",
                  "84991",
                  "60 TEATIME FAIRY CAKE CASES",
                  "240",
                  "2011-05-12 12:36:00",
                  "0.55",
                  "17404.0",
                  "Sweden"
                ],
                [
                  "439",
                  "552957",
                  "84987",
                  "SET OF 36 TEATIME PAPER DOILIES",
                  "144",
                  "2011-05-12 12:36:00",
                  "1.45",
                  "17404.0",
                  "Sweden"
                ],
                [
                  "440",
                  "552957",
                  "21889",
                  "WOODEN BOX OF DOMINOES",
                  "288",
                  "2011-05-12 12:36:00",
                  "1.25",
                  "17404.0",
                  "Sweden"
                ],
                [
                  "441",
                  "552957",
                  "84077",
                  "WORLD WAR 2 GLIDERS ASSTD DESIGNS",
                  "576",
                  "2011-05-12 12:36:00",
                  "0.29",
                  "17404.0",
                  "Sweden"
                ],
                [
                  "442",
                  "552957",
                  "22752",
                  "SET 7 BABUSHKA NESTING BOXES",
                  "2",
                  "2011-05-12 12:36:00",
                  "8.5",
                  "17404.0",
                  "Sweden"
                ],
                [
                  "443",
                  "552957",
                  "22961",
                  "JAM MAKING SET PRINTED",
                  "96",
                  "2011-05-12 12:36:00",
                  "1.45",
                  "17404.0",
                  "Sweden"
                ],
                [
                  "444",
                  "552957",
                  "22721",
                  "SET OF 3 CAKE TINS SKETCHBOOK",
                  "24",
                  "2011-05-12 12:36:00",
                  "4.25",
                  "17404.0",
                  "Sweden"
                ],
                [
                  "445",
                  "552957",
                  "23159",
                  "SET OF 5 PANCAKE DAY MAGNETS",
                  "120",
                  "2011-05-12 12:36:00",
                  "2.08",
                  "17404.0",
                  "Sweden"
                ],
                [
                  "446",
                  "552957",
                  "23154",
                  "SET OF 4 JAM JAR MAGNETS",
                  "120",
                  "2011-05-12 12:36:00",
                  "2.08",
                  "17404.0",
                  "Sweden"
                ],
                [
                  "447",
                  "552957",
                  "22491",
                  "PACK OF 12 COLOURED PENCILS",
                  "12",
                  "2011-05-12 12:36:00",
                  "0.85",
                  "17404.0",
                  "Sweden"
                ],
                [
                  "448",
                  "552957",
                  "23191",
                  "BUNDLE OF 3 RETRO NOTE BOOKS",
                  "12",
                  "2011-05-12 12:36:00",
                  "1.65",
                  "17404.0",
                  "Sweden"
                ],
                [
                  "449",
                  "552957",
                  "22489",
                  "PACK OF 12 TRADITIONAL CRAYONS",
                  "432",
                  "2011-05-12 12:36:00",
                  "0.42",
                  "17404.0",
                  "Sweden"
                ],
                [
                  "450",
                  "552957",
                  "22492",
                  "MINI PAINT SET VINTAGE ",
                  "576",
                  "2011-05-12 12:36:00",
                  "0.65",
                  "17404.0",
                  "Sweden"
                ],
                [
                  "451",
                  "552957",
                  "22938",
                  "CUPCAKE LACE PAPER SET 6",
                  "144",
                  "2011-05-12 12:36:00",
                  "1.95",
                  "17404.0",
                  "Sweden"
                ],
                [
                  "452",
                  "552957",
                  "23080",
                  "RED METAL BOX TOP SECRET",
                  "4",
                  "2011-05-12 12:36:00",
                  "8.25",
                  "17404.0",
                  "Sweden"
                ],
                [
                  "453",
                  "552957",
                  "23081",
                  "GREEN METAL BOX ARMY SUPPLIES",
                  "4",
                  "2011-05-12 12:36:00",
                  "8.25",
                  "17404.0",
                  "Sweden"
                ],
                [
                  "454",
                  "553674",
                  "22467",
                  "GUMBALL COAT RACK",
                  "36",
                  "2011-05-18 12:50:00",
                  "2.1",
                  "12483.0",
                  "Sweden"
                ],
                [
                  "455",
                  "553674",
                  "POST",
                  "POSTAGE",
                  "1",
                  "2011-05-18 12:50:00",
                  "40.0",
                  "12483.0",
                  "Sweden"
                ],
                [
                  "2043",
                  "553017",
                  "85014B",
                  "RED RETROSPOT UMBRELLA",
                  "1",
                  "2011-05-12 19:01:00",
                  "5.95",
                  "12757.0",
                  "Portugal"
                ],
                [
                  "2044",
                  "553017",
                  "20866",
                  "BLUE ROSE FABRIC MIRROR",
                  "2",
                  "2011-05-12 19:01:00",
                  "1.25",
                  "12757.0",
                  "Portugal"
                ],
                [
                  "2045",
                  "553017",
                  "20867",
                  "PINK ROSE FABRIC MIRROR",
                  "2",
                  "2011-05-12 19:01:00",
                  "1.25",
                  "12757.0",
                  "Portugal"
                ],
                [
                  "2046",
                  "553017",
                  "21706",
                  "FOLDING UMBRELLA RED/WHITE POLKADOT",
                  "5",
                  "2011-05-12 19:01:00",
                  "4.95",
                  "12757.0",
                  "Portugal"
                ],
                [
                  "2047",
                  "553017",
                  "21709",
                  "FOLDING UMBRELLA CHOCOLATE POLKADOT",
                  "5",
                  "2011-05-12 19:01:00",
                  "4.95",
                  "12757.0",
                  "Portugal"
                ],
                [
                  "2048",
                  "553017",
                  "20970",
                  "PINK FLORAL FELTCRAFT SHOULDER BAG",
                  "2",
                  "2011-05-12 19:01:00",
                  "3.75",
                  "12757.0",
                  "Portugal"
                ],
                [
                  "2049",
                  "553017",
                  "20967",
                  "GREY FLORAL FELTCRAFT SHOULDER BAG",
                  "3",
                  "2011-05-12 19:01:00",
                  "3.75",
                  "12757.0",
                  "Portugal"
                ],
                [
                  "2050",
                  "553017",
                  "22092",
                  "BLUE PAISLEY TISSUE BOX",
                  "2",
                  "2011-05-12 19:01:00",
                  "1.25",
                  "12757.0",
                  "Portugal"
                ],
                [
                  "2051",
                  "553017",
                  "21980",
                  "PACK OF 12 RED RETROSPOT TISSUES ",
                  "12",
                  "2011-05-12 19:01:00",
                  "0.29",
                  "12757.0",
                  "Portugal"
                ],
                [
                  "2052",
                  "553017",
                  "22722",
                  "SET OF 6 SPICE TINS PANTRY DESIGN",
                  "3",
                  "2011-05-12 19:01:00",
                  "3.95",
                  "12757.0",
                  "Portugal"
                ],
                [
                  "2053",
                  "553017",
                  "23203",
                  "JUMBO BAG DOILEY PATTERNS",
                  "10",
                  "2011-05-12 19:01:00",
                  "2.08",
                  "12757.0",
                  "Portugal"
                ],
                [
                  "2054",
                  "553017",
                  "23202",
                  "JUMBO BAG VINTAGE LEAF",
                  "10",
                  "2011-05-12 19:01:00",
                  "2.08",
                  "12757.0",
                  "Portugal"
                ],
                [
                  "2055",
                  "553017",
                  "21928",
                  "JUMBO BAG SCANDINAVIAN BLUE PAISLEY",
                  "10",
                  "2011-05-12 19:01:00",
                  "2.08",
                  "12757.0",
                  "Portugal"
                ],
                [
                  "2056",
                  "553017",
                  "21929",
                  "JUMBO BAG PINK VINTAGE PAISLEY",
                  "10",
                  "2011-05-12 19:01:00",
                  "2.08",
                  "12757.0",
                  "Portugal"
                ],
                [
                  "2057",
                  "553017",
                  "22411",
                  "JUMBO SHOPPER VINTAGE RED PAISLEY",
                  "10",
                  "2011-05-12 19:01:00",
                  "2.08",
                  "12757.0",
                  "Portugal"
                ],
                [
                  "2058",
                  "553017",
                  "22386",
                  "JUMBO BAG PINK POLKADOT",
                  "10",
                  "2011-05-12 19:01:00",
                  "2.08",
                  "12757.0",
                  "Portugal"
                ],
                [
                  "2059",
                  "553017",
                  "85099B",
                  "JUMBO BAG RED RETROSPOT",
                  "10",
                  "2011-05-12 19:01:00",
                  "2.08",
                  "12757.0",
                  "Portugal"
                ],
                [
                  "2060",
                  "553017",
                  "21931",
                  "JUMBO STORAGE BAG SUKI",
                  "10",
                  "2011-05-12 19:01:00",
                  "2.08",
                  "12757.0",
                  "Portugal"
                ],
                [
                  "2061",
                  "553017",
                  "23208",
                  "LUNCH BAG VINTAGE LEAF DESIGN",
                  "3",
                  "2011-05-12 19:01:00",
                  "1.65",
                  "12757.0",
                  "Portugal"
                ],
                [
                  "2062",
                  "553017",
                  "23209",
                  "LUNCH BAG DOILEY PATTERN ",
                  "3",
                  "2011-05-12 19:01:00",
                  "1.65",
                  "12757.0",
                  "Portugal"
                ],
                [
                  "2063",
                  "553017",
                  "20726",
                  "LUNCH BAG WOODLAND",
                  "3",
                  "2011-05-12 19:01:00",
                  "1.65",
                  "12757.0",
                  "Portugal"
                ],
                [
                  "2064",
                  "553017",
                  "22383",
                  "LUNCH BAG SUKI DESIGN ",
                  "3",
                  "2011-05-12 19:01:00",
                  "1.65",
                  "12757.0",
                  "Portugal"
                ],
                [
                  "2065",
                  "553017",
                  "20728",
                  "LUNCH BAG CARS BLUE",
                  "3",
                  "2011-05-12 19:01:00",
                  "1.65",
                  "12757.0",
                  "Portugal"
                ],
                [
                  "2066",
                  "553017",
                  "22196",
                  "SMALL HEART MEASURING SPOONS",
                  "2",
                  "2011-05-12 19:01:00",
                  "0.85",
                  "12757.0",
                  "Portugal"
                ],
                [
                  "2067",
                  "553017",
                  "20725",
                  "LUNCH BAG RED RETROSPOT",
                  "5",
                  "2011-05-12 19:01:00",
                  "1.65",
                  "12757.0",
                  "Portugal"
                ],
                [
                  "2068",
                  "553017",
                  "22384",
                  "LUNCH BAG PINK POLKADOT",
                  "3",
                  "2011-05-12 19:01:00",
                  "1.65",
                  "12757.0",
                  "Portugal"
                ],
                [
                  "2069",
                  "553017",
                  "20718",
                  "RED RETROSPOT SHOPPER BAG",
                  "5",
                  "2011-05-12 19:01:00",
                  "1.25",
                  "12757.0",
                  "Portugal"
                ],
                [
                  "2070",
                  "553017",
                  "21933",
                  "PINK VINTAGE PAISLEY PICNIC BAG",
                  "3",
                  "2011-05-12 19:01:00",
                  "1.65",
                  "12757.0",
                  "Portugal"
                ],
                [
                  "2071",
                  "553017",
                  "21932",
                  "SCANDINAVIAN PAISLEY PICNIC BAG",
                  "3",
                  "2011-05-12 19:01:00",
                  "1.65",
                  "12757.0",
                  "Portugal"
                ]
              ],
              "shape": {
                "columns": 8,
                "rows": 37030
              }
            },
            "text/html": [
              "<div>\n",
              "<style scoped>\n",
              "    .dataframe tbody tr th:only-of-type {\n",
              "        vertical-align: middle;\n",
              "    }\n",
              "\n",
              "    .dataframe tbody tr th {\n",
              "        vertical-align: top;\n",
              "    }\n",
              "\n",
              "    .dataframe thead th {\n",
              "        text-align: right;\n",
              "    }\n",
              "</style>\n",
              "<table border=\"1\" class=\"dataframe\">\n",
              "  <thead>\n",
              "    <tr style=\"text-align: right;\">\n",
              "      <th></th>\n",
              "      <th>nroFactura</th>\n",
              "      <th>codigoStock</th>\n",
              "      <th>descripcion</th>\n",
              "      <th>cantidad</th>\n",
              "      <th>fechaFactura</th>\n",
              "      <th>precioUnidad</th>\n",
              "      <th>idCliente</th>\n",
              "      <th>pais</th>\n",
              "    </tr>\n",
              "  </thead>\n",
              "  <tbody>\n",
              "    <tr>\n",
              "      <th>435</th>\n",
              "      <td>C551585</td>\n",
              "      <td>22779</td>\n",
              "      <td>WOODEN OWLS LIGHT GARLAND</td>\n",
              "      <td>-2</td>\n",
              "      <td>2011-05-03 11:23:00</td>\n",
              "      <td>4.25</td>\n",
              "      <td>12483.0</td>\n",
              "      <td>Sweden</td>\n",
              "    </tr>\n",
              "    <tr>\n",
              "      <th>436</th>\n",
              "      <td>C551864</td>\n",
              "      <td>22779</td>\n",
              "      <td>WOODEN OWLS LIGHT GARLAND</td>\n",
              "      <td>-2</td>\n",
              "      <td>2011-05-04 16:18:00</td>\n",
              "      <td>4.25</td>\n",
              "      <td>12483.0</td>\n",
              "      <td>Sweden</td>\n",
              "    </tr>\n",
              "    <tr>\n",
              "      <th>437</th>\n",
              "      <td>552717</td>\n",
              "      <td>22779</td>\n",
              "      <td>WOODEN OWLS LIGHT GARLAND</td>\n",
              "      <td>2</td>\n",
              "      <td>2011-05-11 09:42:00</td>\n",
              "      <td>4.25</td>\n",
              "      <td>12483.0</td>\n",
              "      <td>Sweden</td>\n",
              "    </tr>\n",
              "    <tr>\n",
              "      <th>438</th>\n",
              "      <td>552957</td>\n",
              "      <td>84991</td>\n",
              "      <td>60 TEATIME FAIRY CAKE CASES</td>\n",
              "      <td>240</td>\n",
              "      <td>2011-05-12 12:36:00</td>\n",
              "      <td>0.55</td>\n",
              "      <td>17404.0</td>\n",
              "      <td>Sweden</td>\n",
              "    </tr>\n",
              "    <tr>\n",
              "      <th>439</th>\n",
              "      <td>552957</td>\n",
              "      <td>84987</td>\n",
              "      <td>SET OF 36 TEATIME PAPER DOILIES</td>\n",
              "      <td>144</td>\n",
              "      <td>2011-05-12 12:36:00</td>\n",
              "      <td>1.45</td>\n",
              "      <td>17404.0</td>\n",
              "      <td>Sweden</td>\n",
              "    </tr>\n",
              "    <tr>\n",
              "      <th>...</th>\n",
              "      <td>...</td>\n",
              "      <td>...</td>\n",
              "      <td>...</td>\n",
              "      <td>...</td>\n",
              "      <td>...</td>\n",
              "      <td>...</td>\n",
              "      <td>...</td>\n",
              "      <td>...</td>\n",
              "    </tr>\n",
              "    <tr>\n",
              "      <th>536398</th>\n",
              "      <td>555096</td>\n",
              "      <td>22989</td>\n",
              "      <td>SET 2 PANTRY DESIGN TEA TOWELS</td>\n",
              "      <td>6</td>\n",
              "      <td>2011-05-31 13:32:00</td>\n",
              "      <td>3.25</td>\n",
              "      <td>12682.0</td>\n",
              "      <td>France</td>\n",
              "    </tr>\n",
              "    <tr>\n",
              "      <th>536399</th>\n",
              "      <td>555096</td>\n",
              "      <td>21700</td>\n",
              "      <td>BIG DOUGHNUT FRIDGE MAGNETS</td>\n",
              "      <td>12</td>\n",
              "      <td>2011-05-31 13:32:00</td>\n",
              "      <td>0.85</td>\n",
              "      <td>12682.0</td>\n",
              "      <td>France</td>\n",
              "    </tr>\n",
              "    <tr>\n",
              "      <th>536400</th>\n",
              "      <td>555096</td>\n",
              "      <td>23155</td>\n",
              "      <td>KNICKERBOCKERGLORY MAGNET ASSORTED</td>\n",
              "      <td>12</td>\n",
              "      <td>2011-05-31 13:32:00</td>\n",
              "      <td>0.83</td>\n",
              "      <td>12682.0</td>\n",
              "      <td>France</td>\n",
              "    </tr>\n",
              "    <tr>\n",
              "      <th>536401</th>\n",
              "      <td>555096</td>\n",
              "      <td>POST</td>\n",
              "      <td>POSTAGE</td>\n",
              "      <td>3</td>\n",
              "      <td>2011-05-31 13:32:00</td>\n",
              "      <td>18.00</td>\n",
              "      <td>12682.0</td>\n",
              "      <td>France</td>\n",
              "    </tr>\n",
              "    <tr>\n",
              "      <th>536402</th>\n",
              "      <td>C555100</td>\n",
              "      <td>22848</td>\n",
              "      <td>BREAD BIN DINER STYLE PINK</td>\n",
              "      <td>-1</td>\n",
              "      <td>2011-05-31 13:45:00</td>\n",
              "      <td>16.95</td>\n",
              "      <td>12493.0</td>\n",
              "      <td>France</td>\n",
              "    </tr>\n",
              "  </tbody>\n",
              "</table>\n",
              "<p>37030 rows × 8 columns</p>\n",
              "</div>"
            ],
            "text/plain": [
              "       nroFactura codigoStock                          descripcion  cantidad  \\\n",
              "435       C551585       22779           WOODEN OWLS LIGHT GARLAND         -2   \n",
              "436       C551864       22779           WOODEN OWLS LIGHT GARLAND         -2   \n",
              "437        552717       22779           WOODEN OWLS LIGHT GARLAND          2   \n",
              "438        552957       84991          60 TEATIME FAIRY CAKE CASES       240   \n",
              "439        552957       84987      SET OF 36 TEATIME PAPER DOILIES       144   \n",
              "...           ...         ...                                  ...       ...   \n",
              "536398     555096       22989       SET 2 PANTRY DESIGN TEA TOWELS         6   \n",
              "536399     555096       21700          BIG DOUGHNUT FRIDGE MAGNETS        12   \n",
              "536400     555096       23155  KNICKERBOCKERGLORY MAGNET ASSORTED         12   \n",
              "536401     555096        POST                              POSTAGE         3   \n",
              "536402    C555100       22848           BREAD BIN DINER STYLE PINK        -1   \n",
              "\n",
              "              fechaFactura  precioUnidad  idCliente    pais  \n",
              "435    2011-05-03 11:23:00          4.25    12483.0  Sweden  \n",
              "436    2011-05-04 16:18:00          4.25    12483.0  Sweden  \n",
              "437    2011-05-11 09:42:00          4.25    12483.0  Sweden  \n",
              "438    2011-05-12 12:36:00          0.55    17404.0  Sweden  \n",
              "439    2011-05-12 12:36:00          1.45    17404.0  Sweden  \n",
              "...                    ...           ...        ...     ...  \n",
              "536398 2011-05-31 13:32:00          3.25    12682.0  France  \n",
              "536399 2011-05-31 13:32:00          0.85    12682.0  France  \n",
              "536400 2011-05-31 13:32:00          0.83    12682.0  France  \n",
              "536401 2011-05-31 13:32:00         18.00    12682.0  France  \n",
              "536402 2011-05-31 13:45:00         16.95    12493.0  France  \n",
              "\n",
              "[37030 rows x 8 columns]"
            ]
          },
          "execution_count": 10,
          "metadata": {},
          "output_type": "execute_result"
        }
      ],
      "source": [
        "facturas_mayo_2011 = ecommerce_df[\n",
        "    (ecommerce_df['fechaFactura'].dt.year == 2011) &\n",
        "    (ecommerce_df['fechaFactura'].dt.month == 5)\n",
        "]\n",
        "facturas_mayo_2011"
      ]
    },
    {
      "cell_type": "markdown",
      "metadata": {
        "id": "xEJfpbRHXfZi"
      },
      "source": [
        "7. ¿Qué rango de fechas cubre el histórico?"
      ]
    },
    {
      "cell_type": "code",
      "execution_count": 11,
      "metadata": {},
      "outputs": [
        {
          "name": "stdout",
          "output_type": "stream",
          "text": [
            "El histórico cubre desde 2010-12-01 08:26:00 hasta 2011-12-09 12:50:00.\n"
          ]
        }
      ],
      "source": [
        "fecha_min = ecommerce_df['fechaFactura'].min()\n",
        "fecha_max = ecommerce_df['fechaFactura'].max()\n",
        "print(f\"El histórico cubre desde {fecha_min} hasta {fecha_max}.\")"
      ]
    },
    {
      "cell_type": "markdown",
      "metadata": {
        "id": "ee_uXM18XxrP"
      },
      "source": [
        "8. ¿Cuántas transacciones registró el cliente 17850?.  \n",
        "Nota: Puede apoyarse del método [unique](https://pandas.pydata.org/docs/reference/api/pandas.unique.html)"
      ]
    },
    {
      "cell_type": "code",
      "execution_count": 12,
      "metadata": {},
      "outputs": [
        {
          "name": "stdout",
          "output_type": "stream",
          "text": [
            "El cliente 17850 registró 35 transacciones.\n"
          ]
        }
      ],
      "source": [
        "transacciones_17850 = ecommerce_df[ecommerce_df['idCliente'] == 17850]['nroFactura'].nunique()\n",
        "print(f\"El cliente 17850 registró {transacciones_17850} transacciones.\")"
      ]
    },
    {
      "cell_type": "markdown",
      "metadata": {
        "id": "rTRNGZtxNgvR"
      },
      "source": [
        "## Manipulación de columnas"
      ]
    },
    {
      "cell_type": "markdown",
      "metadata": {
        "id": "Khp0vvktYIP9"
      },
      "source": [
        "¿Cómo construir métricas clave derivadas?"
      ]
    },
    {
      "cell_type": "markdown",
      "metadata": {
        "id": "UYSzdkS9Y8JW"
      },
      "source": [
        "Cálculo de ingresos\n",
        "9. Finanzas requiere el ingreso real por factura.\n",
        "\n",
        "- Crea la columna montoTotal = cantidad * precioUnidad.  \n",
        "- Muestra los 5 pedidos con mayor montoTotal."
      ]
    },
    {
      "cell_type": "code",
      "execution_count": 13,
      "metadata": {},
      "outputs": [],
      "source": [
        "ecommerce_df['montoTotal'] = ecommerce_df['cantidad'] * ecommerce_df['precioUnidad']"
      ]
    },
    {
      "cell_type": "code",
      "execution_count": 14,
      "metadata": {},
      "outputs": [
        {
          "data": {
            "application/vnd.microsoft.datawrangler.viewer.v0+json": {
              "columns": [
                {
                  "name": "index",
                  "rawType": "int64",
                  "type": "integer"
                },
                {
                  "name": "nroFactura",
                  "rawType": "object",
                  "type": "string"
                },
                {
                  "name": "codigoStock",
                  "rawType": "object",
                  "type": "string"
                },
                {
                  "name": "descripcion",
                  "rawType": "object",
                  "type": "string"
                },
                {
                  "name": "cantidad",
                  "rawType": "int64",
                  "type": "integer"
                },
                {
                  "name": "fechaFactura",
                  "rawType": "datetime64[ns]",
                  "type": "datetime"
                },
                {
                  "name": "precioUnidad",
                  "rawType": "float64",
                  "type": "float"
                },
                {
                  "name": "idCliente",
                  "rawType": "float64",
                  "type": "float"
                },
                {
                  "name": "pais",
                  "rawType": "object",
                  "type": "string"
                },
                {
                  "name": "montoTotal",
                  "rawType": "float64",
                  "type": "float"
                }
              ],
              "ref": "517179a9-b62c-4adf-8cad-b0c729caa45a",
              "rows": [
                [
                  "522484",
                  "581483",
                  "23843",
                  "PAPER CRAFT , LITTLE BIRDIE",
                  "80995",
                  "2011-12-09 09:15:00",
                  "2.08",
                  "16446.0",
                  "United Kingdom",
                  "168469.6"
                ],
                [
                  "86076",
                  "541431",
                  "23166",
                  "MEDIUM CERAMIC TOP STORAGE JAR",
                  "74215",
                  "2011-01-18 10:01:00",
                  "1.04",
                  "12346.0",
                  "United Kingdom",
                  "77183.6"
                ],
                [
                  "233269",
                  "556444",
                  "22502",
                  "PICNIC BASKET WICKER 60 PIECES",
                  "60",
                  "2011-06-10 15:28:00",
                  "649.5",
                  "15098.0",
                  "United Kingdom",
                  "38970.0"
                ],
                [
                  "42631",
                  "537632",
                  "AMAZONFEE",
                  "AMAZON FEE",
                  "1",
                  "2010-12-07 15:08:00",
                  "13541.33",
                  null,
                  "United Kingdom",
                  "13541.33"
                ],
                [
                  "302910",
                  "A563185",
                  "B",
                  "Adjust bad debt",
                  "1",
                  "2011-08-12 14:50:00",
                  "11062.06",
                  null,
                  "United Kingdom",
                  "11062.06"
                ]
              ],
              "shape": {
                "columns": 9,
                "rows": 5
              }
            },
            "text/html": [
              "<div>\n",
              "<style scoped>\n",
              "    .dataframe tbody tr th:only-of-type {\n",
              "        vertical-align: middle;\n",
              "    }\n",
              "\n",
              "    .dataframe tbody tr th {\n",
              "        vertical-align: top;\n",
              "    }\n",
              "\n",
              "    .dataframe thead th {\n",
              "        text-align: right;\n",
              "    }\n",
              "</style>\n",
              "<table border=\"1\" class=\"dataframe\">\n",
              "  <thead>\n",
              "    <tr style=\"text-align: right;\">\n",
              "      <th></th>\n",
              "      <th>nroFactura</th>\n",
              "      <th>codigoStock</th>\n",
              "      <th>descripcion</th>\n",
              "      <th>cantidad</th>\n",
              "      <th>fechaFactura</th>\n",
              "      <th>precioUnidad</th>\n",
              "      <th>idCliente</th>\n",
              "      <th>pais</th>\n",
              "      <th>montoTotal</th>\n",
              "    </tr>\n",
              "  </thead>\n",
              "  <tbody>\n",
              "    <tr>\n",
              "      <th>522484</th>\n",
              "      <td>581483</td>\n",
              "      <td>23843</td>\n",
              "      <td>PAPER CRAFT , LITTLE BIRDIE</td>\n",
              "      <td>80995</td>\n",
              "      <td>2011-12-09 09:15:00</td>\n",
              "      <td>2.08</td>\n",
              "      <td>16446.0</td>\n",
              "      <td>United Kingdom</td>\n",
              "      <td>168469.60</td>\n",
              "    </tr>\n",
              "    <tr>\n",
              "      <th>86076</th>\n",
              "      <td>541431</td>\n",
              "      <td>23166</td>\n",
              "      <td>MEDIUM CERAMIC TOP STORAGE JAR</td>\n",
              "      <td>74215</td>\n",
              "      <td>2011-01-18 10:01:00</td>\n",
              "      <td>1.04</td>\n",
              "      <td>12346.0</td>\n",
              "      <td>United Kingdom</td>\n",
              "      <td>77183.60</td>\n",
              "    </tr>\n",
              "    <tr>\n",
              "      <th>233269</th>\n",
              "      <td>556444</td>\n",
              "      <td>22502</td>\n",
              "      <td>PICNIC BASKET WICKER 60 PIECES</td>\n",
              "      <td>60</td>\n",
              "      <td>2011-06-10 15:28:00</td>\n",
              "      <td>649.50</td>\n",
              "      <td>15098.0</td>\n",
              "      <td>United Kingdom</td>\n",
              "      <td>38970.00</td>\n",
              "    </tr>\n",
              "    <tr>\n",
              "      <th>42631</th>\n",
              "      <td>537632</td>\n",
              "      <td>AMAZONFEE</td>\n",
              "      <td>AMAZON FEE</td>\n",
              "      <td>1</td>\n",
              "      <td>2010-12-07 15:08:00</td>\n",
              "      <td>13541.33</td>\n",
              "      <td>NaN</td>\n",
              "      <td>United Kingdom</td>\n",
              "      <td>13541.33</td>\n",
              "    </tr>\n",
              "    <tr>\n",
              "      <th>302910</th>\n",
              "      <td>A563185</td>\n",
              "      <td>B</td>\n",
              "      <td>Adjust bad debt</td>\n",
              "      <td>1</td>\n",
              "      <td>2011-08-12 14:50:00</td>\n",
              "      <td>11062.06</td>\n",
              "      <td>NaN</td>\n",
              "      <td>United Kingdom</td>\n",
              "      <td>11062.06</td>\n",
              "    </tr>\n",
              "  </tbody>\n",
              "</table>\n",
              "</div>"
            ],
            "text/plain": [
              "       nroFactura codigoStock                     descripcion  cantidad  \\\n",
              "522484     581483       23843     PAPER CRAFT , LITTLE BIRDIE     80995   \n",
              "86076      541431       23166  MEDIUM CERAMIC TOP STORAGE JAR     74215   \n",
              "233269     556444       22502  PICNIC BASKET WICKER 60 PIECES        60   \n",
              "42631      537632   AMAZONFEE                      AMAZON FEE         1   \n",
              "302910    A563185           B                 Adjust bad debt         1   \n",
              "\n",
              "              fechaFactura  precioUnidad  idCliente            pais  \\\n",
              "522484 2011-12-09 09:15:00          2.08    16446.0  United Kingdom   \n",
              "86076  2011-01-18 10:01:00          1.04    12346.0  United Kingdom   \n",
              "233269 2011-06-10 15:28:00        649.50    15098.0  United Kingdom   \n",
              "42631  2010-12-07 15:08:00      13541.33        NaN  United Kingdom   \n",
              "302910 2011-08-12 14:50:00      11062.06        NaN  United Kingdom   \n",
              "\n",
              "        montoTotal  \n",
              "522484   168469.60  \n",
              "86076     77183.60  \n",
              "233269    38970.00  \n",
              "42631     13541.33  \n",
              "302910    11062.06  "
            ]
          },
          "execution_count": 14,
          "metadata": {},
          "output_type": "execute_result"
        }
      ],
      "source": [
        "ecommerce_df.nlargest(5, 'montoTotal')"
      ]
    },
    {
      "cell_type": "markdown",
      "metadata": {
        "id": "_MH6yYf5ZPXr"
      },
      "source": [
        "Limpieza de descripciones\n",
        "\n",
        "10. BI necesita descripciones uniformes para análisis de producto.\n",
        "\n",
        "- Aplica .str.strip().str.lower() sobre descripcion. Analice los cambios realizados en el dataframe.  \n",
        "- Elimine filas donde descripcion quede vacía tras limpiar."
      ]
    },
    {
      "cell_type": "code",
      "execution_count": 15,
      "metadata": {},
      "outputs": [
        {
          "data": {
            "application/vnd.microsoft.datawrangler.viewer.v0+json": {
              "columns": [
                {
                  "name": "index",
                  "rawType": "int64",
                  "type": "integer"
                },
                {
                  "name": "descripcion",
                  "rawType": "object",
                  "type": "string"
                }
              ],
              "ref": "13766c20-17ad-4ae9-9936-dfcd327c0025",
              "rows": [
                [
                  "460723",
                  "zinc metal heart decoration"
                ],
                [
                  "245376",
                  "red retrospot shopper bag"
                ],
                [
                  "438245",
                  "feltcraft cushion owl"
                ],
                [
                  "521115",
                  "jumbo bag alphabet"
                ],
                [
                  "273681",
                  "magic drawing slate spaceboy"
                ],
                [
                  "464324",
                  "set of 72 retrospot paper  doilies"
                ],
                [
                  "99699",
                  "jumbo bag red retrospot"
                ],
                [
                  "48740",
                  "red kitchen scales"
                ],
                [
                  "203831",
                  "toilet sign occupied or vacant"
                ],
                [
                  "158162",
                  "lunch box i love london"
                ]
              ],
              "shape": {
                "columns": 1,
                "rows": 10
              }
            },
            "text/plain": [
              "460723           zinc metal heart decoration\n",
              "245376             red retrospot shopper bag\n",
              "438245                 feltcraft cushion owl\n",
              "521115                    jumbo bag alphabet\n",
              "273681          magic drawing slate spaceboy\n",
              "464324    set of 72 retrospot paper  doilies\n",
              "99699                jumbo bag red retrospot\n",
              "48740                     red kitchen scales\n",
              "203831        toilet sign occupied or vacant\n",
              "158162               lunch box i love london\n",
              "Name: descripcion, dtype: object"
            ]
          },
          "execution_count": 15,
          "metadata": {},
          "output_type": "execute_result"
        }
      ],
      "source": [
        "ecommerce_df['descripcion'] = ecommerce_df['descripcion'].str.strip().str.lower() # Se hace limpieza a la columna descripcion\n",
        "ecommerce_df = ecommerce_df[ecommerce_df['descripcion'] != ''] # Se elimina filas donde descripcion quede vacía tras limpiar\n",
        "ecommerce_df = ecommerce_df[~ecommerce_df['descripcion'].isna()] # Se elimina filas donde descripcion sea NaN\n",
        "ecommerce_df['descripcion'].sample(10)"
      ]
    },
    {
      "cell_type": "markdown",
      "metadata": {
        "id": "pEbmK8yraNQd"
      },
      "source": [
        "Columnas derivadas\n",
        "\n",
        "11. Marketing segmenta tamaños de pedido para promociones.\n",
        "\n",
        "Crea tamanoPedido con etiquetas:\n",
        "\n",
        "“pequenio” (< 5 ítems)\n",
        "\n",
        "“mediano” (5–20 ítems)\n",
        "\n",
        "“grande” (> 20 ítems)\n",
        "\n",
        "¿Qué proporción cae en cada categoría?"
      ]
    },
    {
      "cell_type": "code",
      "execution_count": 16,
      "metadata": {},
      "outputs": [
        {
          "data": {
            "application/vnd.microsoft.datawrangler.viewer.v0+json": {
              "columns": [
                {
                  "name": "tamanoPedido",
                  "rawType": "object",
                  "type": "string"
                },
                {
                  "name": "proportion",
                  "rawType": "float64",
                  "type": "float"
                }
              ],
              "ref": "625695a5-37bc-4eb5-8876-4bea5738bd1d",
              "rows": [
                [
                  "pequeño",
                  "0.583166036025201"
                ],
                [
                  "mediano",
                  "0.31150974641737056"
                ],
                [
                  "grande",
                  "0.10532421755742846"
                ]
              ],
              "shape": {
                "columns": 1,
                "rows": 3
              }
            },
            "text/plain": [
              "tamanoPedido\n",
              "pequeño    0.583166\n",
              "mediano    0.311510\n",
              "grande     0.105324\n",
              "Name: proportion, dtype: float64"
            ]
          },
          "execution_count": 16,
          "metadata": {},
          "output_type": "execute_result"
        }
      ],
      "source": [
        "import numpy as np\n",
        "\n",
        "condiciones = [\n",
        "    ecommerce_df['cantidad'] < 5,\n",
        "    ecommerce_df['cantidad'].between(5, 20, inclusive='both'),\n",
        "    ecommerce_df['cantidad'] > 20\n",
        "]\n",
        "etiquetas = ['pequeño', 'mediano', 'grande']\n",
        "\n",
        "ecommerce_df['tamanoPedido'] = np.select(condiciones, etiquetas, default='sin_categoria')\n",
        "\n",
        "proporcion = ecommerce_df['tamanoPedido'].value_counts(normalize=True)\n",
        "proporcion"
      ]
    },
    {
      "cell_type": "markdown",
      "metadata": {
        "id": "XOnk1-4FNlP8"
      },
      "source": [
        "## Selección condicional"
      ]
    },
    {
      "cell_type": "markdown",
      "metadata": {
        "id": "ZuJrzAhrsy4L"
      },
      "source": [
        "¿Cómo focalizar el análisis en casos críticos?\n",
        "12. Gerencia revisa pedidos superiores a £1 000 para auditoría.\n",
        "\n",
        "Mostrar las facturas que tienen un monto mayor a 1000 £.\n",
        "\n",
        "¿Cuántos clientes únicos realizaron esos pedidos?"
      ]
    },
    {
      "cell_type": "code",
      "execution_count": 17,
      "metadata": {},
      "outputs": [
        {
          "data": {
            "application/vnd.microsoft.datawrangler.viewer.v0+json": {
              "columns": [
                {
                  "name": "index",
                  "rawType": "int64",
                  "type": "integer"
                },
                {
                  "name": "nroFactura",
                  "rawType": "object",
                  "type": "string"
                },
                {
                  "name": "codigoStock",
                  "rawType": "object",
                  "type": "string"
                },
                {
                  "name": "descripcion",
                  "rawType": "object",
                  "type": "string"
                },
                {
                  "name": "cantidad",
                  "rawType": "int64",
                  "type": "integer"
                },
                {
                  "name": "fechaFactura",
                  "rawType": "datetime64[ns]",
                  "type": "datetime"
                },
                {
                  "name": "precioUnidad",
                  "rawType": "float64",
                  "type": "float"
                },
                {
                  "name": "idCliente",
                  "rawType": "float64",
                  "type": "float"
                },
                {
                  "name": "pais",
                  "rawType": "object",
                  "type": "string"
                },
                {
                  "name": "montoTotal",
                  "rawType": "float64",
                  "type": "float"
                },
                {
                  "name": "tamanoPedido",
                  "rawType": "object",
                  "type": "string"
                }
              ],
              "ref": "ae5654b9-467d-44ce-b5b6-5bc79f041c30",
              "rows": [
                [
                  "292",
                  "538848",
                  "85232B",
                  "set of 3 babushka stacking tins",
                  "240",
                  "2010-12-14 13:28:00",
                  "4.95",
                  "17404.0",
                  "Sweden",
                  "1188.0",
                  "grande"
                ],
                [
                  "2122",
                  "554155",
                  "M",
                  "manual",
                  "1",
                  "2011-05-23 11:26:00",
                  "1241.98",
                  "12757.0",
                  "Portugal",
                  "1241.98",
                  "pequeño"
                ],
                [
                  "2123",
                  "554301",
                  "M",
                  "manual",
                  "1",
                  "2011-05-23 14:46:00",
                  "1241.98",
                  "12757.0",
                  "Portugal",
                  "1241.98",
                  "pequeño"
                ],
                [
                  "7610",
                  "540267",
                  "22720",
                  "set of 3 cake tins pantry design",
                  "240",
                  "2011-01-06 11:12:00",
                  "4.25",
                  "12415.0",
                  "Australia",
                  "1020.0",
                  "grande"
                ],
                [
                  "7816",
                  "545475",
                  "21217",
                  "red retrospot round cake tins",
                  "120",
                  "2011-03-03 10:59:00",
                  "8.95",
                  "12415.0",
                  "Australia",
                  "1074.0",
                  "grande"
                ],
                [
                  "8459",
                  "563614",
                  "22940",
                  "feltcraft christmas fairy",
                  "336",
                  "2011-08-18 08:51:00",
                  "3.75",
                  "12415.0",
                  "Australia",
                  "1260.0",
                  "grande"
                ],
                [
                  "8529",
                  "563614",
                  "23314",
                  "vintage christmas tablecloth",
                  "100",
                  "2011-08-18 08:51:00",
                  "10.39",
                  "12415.0",
                  "Australia",
                  "1039.0",
                  "grande"
                ],
                [
                  "8780",
                  "576394",
                  "23084",
                  "rabbit night light",
                  "960",
                  "2011-11-15 10:32:00",
                  "1.79",
                  "12415.0",
                  "Australia",
                  "1718.4",
                  "grande"
                ],
                [
                  "8862",
                  "546558",
                  "M",
                  "manual",
                  "1",
                  "2011-03-15 09:50:00",
                  "2583.76",
                  null,
                  "Hong Kong",
                  "2583.76",
                  "pequeño"
                ],
                [
                  "9054",
                  "567353",
                  "M",
                  "manual",
                  "1",
                  "2011-09-19 16:14:00",
                  "2653.95",
                  null,
                  "Hong Kong",
                  "2653.95",
                  "pequeño"
                ],
                [
                  "10694",
                  "537899",
                  "22328",
                  "round snack boxes set of 4 fruits",
                  "1488",
                  "2010-12-09 10:44:00",
                  "2.55",
                  "12755.0",
                  "Japan",
                  "3794.3999999999996",
                  "grande"
                ],
                [
                  "10995",
                  "572869",
                  "23084",
                  "rabbit night light",
                  "960",
                  "2011-10-26 13:21:00",
                  "1.79",
                  "12798.0",
                  "Japan",
                  "1718.4",
                  "grande"
                ],
                [
                  "11027",
                  "579498",
                  "23084",
                  "rabbit night light",
                  "2040",
                  "2011-11-29 15:52:00",
                  "1.79",
                  "12798.0",
                  "Japan",
                  "3651.6",
                  "grande"
                ],
                [
                  "14247",
                  "541220",
                  "22423",
                  "regency cakestand 3 tier",
                  "160",
                  "2011-01-14 14:11:00",
                  "10.95",
                  "14156.0",
                  "EIRE",
                  "1752.0",
                  "grande"
                ],
                [
                  "14252",
                  "541220",
                  "22838",
                  "3 tier cake tin red and cream",
                  "96",
                  "2011-01-14 14:11:00",
                  "12.75",
                  "14156.0",
                  "EIRE",
                  "1224.0",
                  "grande"
                ],
                [
                  "14253",
                  "541220",
                  "22840",
                  "round cake tin vintage red",
                  "144",
                  "2011-01-14 14:11:00",
                  "6.95",
                  "14156.0",
                  "EIRE",
                  "1000.8000000000001",
                  "grande"
                ],
                [
                  "14824",
                  "545320",
                  "22838",
                  "3 tier cake tin red and cream",
                  "96",
                  "2011-03-01 14:47:00",
                  "12.75",
                  "14156.0",
                  "EIRE",
                  "1224.0",
                  "grande"
                ],
                [
                  "14969",
                  "546328",
                  "M",
                  "manual",
                  "1",
                  "2011-03-11 10:19:00",
                  "1687.17",
                  "14911.0",
                  "EIRE",
                  "1687.17",
                  "pequeño"
                ],
                [
                  "14970",
                  "546329",
                  "M",
                  "manual",
                  "1",
                  "2011-03-11 10:22:00",
                  "1687.17",
                  "14911.0",
                  "EIRE",
                  "1687.17",
                  "pequeño"
                ],
                [
                  "16635",
                  "557377",
                  "M",
                  "manual",
                  "1",
                  "2011-06-20 11:00:00",
                  "1917.0",
                  null,
                  "EIRE",
                  "1917.0",
                  "pequeño"
                ],
                [
                  "16636",
                  "557377",
                  "M",
                  "manual",
                  "1",
                  "2011-06-20 11:00:00",
                  "1216.12",
                  null,
                  "EIRE",
                  "1216.12",
                  "pequeño"
                ],
                [
                  "17679",
                  "561901",
                  "22667",
                  "recipe box retrospot",
                  "408",
                  "2011-07-31 15:42:00",
                  "2.55",
                  "14156.0",
                  "EIRE",
                  "1040.3999999999999",
                  "grande"
                ],
                [
                  "17683",
                  "561901",
                  "21843",
                  "red retrospot cake stand",
                  "216",
                  "2011-07-31 15:42:00",
                  "10.95",
                  "14156.0",
                  "EIRE",
                  "2365.2",
                  "grande"
                ],
                [
                  "17686",
                  "561901",
                  "22666",
                  "recipe box pantry yellow design",
                  "408",
                  "2011-07-31 15:42:00",
                  "2.95",
                  "14156.0",
                  "EIRE",
                  "1203.6000000000001",
                  "grande"
                ],
                [
                  "19700",
                  "570253",
                  "23046",
                  "paper lantern 9 point deluxe star",
                  "240",
                  "2011-10-10 09:18:00",
                  "5.75",
                  "14156.0",
                  "EIRE",
                  "1380.0",
                  "grande"
                ],
                [
                  "22043",
                  "548813",
                  "M",
                  "manual",
                  "1",
                  "2011-04-04 13:03:00",
                  "2382.92",
                  "12744.0",
                  "Singapore",
                  "2382.92",
                  "pequeño"
                ],
                [
                  "22045",
                  "548813",
                  "M",
                  "manual",
                  "1",
                  "2011-04-04 13:03:00",
                  "1252.95",
                  "12744.0",
                  "Singapore",
                  "1252.95",
                  "pequeño"
                ],
                [
                  "22046",
                  "548820",
                  "M",
                  "manual",
                  "1",
                  "2011-04-04 13:04:00",
                  "2053.07",
                  "12744.0",
                  "Singapore",
                  "2053.07",
                  "pequeño"
                ],
                [
                  "22213",
                  "571751",
                  "M",
                  "manual",
                  "1",
                  "2011-10-19 11:18:00",
                  "3949.32",
                  "12744.0",
                  "Singapore",
                  "3949.32",
                  "pequeño"
                ],
                [
                  "22214",
                  "571751",
                  "M",
                  "manual",
                  "1",
                  "2011-10-19 11:18:00",
                  "2118.74",
                  "12744.0",
                  "Singapore",
                  "2118.74",
                  "pequeño"
                ],
                [
                  "22653",
                  "540785",
                  "84997D",
                  "pink 3 piece polkadot cutlery set",
                  "360",
                  "2011-01-11 11:39:00",
                  "3.39",
                  "12557.0",
                  "Spain",
                  "1220.4",
                  "grande"
                ],
                [
                  "22654",
                  "540785",
                  "84997C",
                  "blue 3 piece polkadot cutlery set",
                  "360",
                  "2011-01-11 11:39:00",
                  "3.39",
                  "12557.0",
                  "Spain",
                  "1220.4",
                  "grande"
                ],
                [
                  "23544",
                  "558871",
                  "84997D",
                  "childrens cutlery polkadot pink",
                  "360",
                  "2011-07-04 13:19:00",
                  "3.75",
                  "12557.0",
                  "Spain",
                  "1350.0",
                  "grande"
                ],
                [
                  "23545",
                  "558871",
                  "84997C",
                  "childrens cutlery polkadot blue",
                  "360",
                  "2011-07-04 13:19:00",
                  "3.75",
                  "12557.0",
                  "Spain",
                  "1350.0",
                  "grande"
                ],
                [
                  "24805",
                  "578321",
                  "84997D",
                  "childrens cutlery polkadot pink",
                  "360",
                  "2011-11-23 16:59:00",
                  "3.75",
                  "12557.0",
                  "Spain",
                  "1350.0",
                  "grande"
                ],
                [
                  "24806",
                  "578321",
                  "84997C",
                  "childrens cutlery polkadot blue",
                  "288",
                  "2011-11-23 16:59:00",
                  "3.75",
                  "12557.0",
                  "Spain",
                  "1080.0",
                  "grande"
                ],
                [
                  "26627",
                  "548011",
                  "22629",
                  "spaceboy lunch box",
                  "640",
                  "2011-03-29 11:14:00",
                  "1.65",
                  "14646.0",
                  "Netherlands",
                  "1056.0",
                  "grande"
                ],
                [
                  "26628",
                  "548011",
                  "22630",
                  "dolly girl lunch box",
                  "640",
                  "2011-03-29 11:14:00",
                  "1.65",
                  "14646.0",
                  "Netherlands",
                  "1056.0",
                  "grande"
                ],
                [
                  "26848",
                  "554642",
                  "22243",
                  "5 hook hanger red magic toadstool",
                  "960",
                  "2011-05-25 12:19:00",
                  "1.45",
                  "14646.0",
                  "Netherlands",
                  "1392.0",
                  "grande"
                ],
                [
                  "28001",
                  "572052",
                  "22595",
                  "gingham heart decoration",
                  "1728",
                  "2011-10-20 12:26:00",
                  "0.72",
                  "14646.0",
                  "Netherlands",
                  "1244.1599999999999",
                  "grande"
                ],
                [
                  "28064",
                  "573003",
                  "23084",
                  "rabbit night light",
                  "2400",
                  "2011-10-27 12:11:00",
                  "2.08",
                  "14646.0",
                  "Netherlands",
                  "4992.0",
                  "grande"
                ],
                [
                  "28368",
                  "581175",
                  "23084",
                  "rabbit night light",
                  "1440",
                  "2011-12-07 15:16:00",
                  "1.79",
                  "14646.0",
                  "Netherlands",
                  "2577.6",
                  "grande"
                ],
                [
                  "29213",
                  "536477",
                  "21137",
                  "black record cover frame",
                  "480",
                  "2010-12-01 12:27:00",
                  "3.39",
                  "16210.0",
                  "United Kingdom",
                  "1627.2",
                  "grande"
                ],
                [
                  "30584",
                  "536584",
                  "84029E",
                  "red woolly hottie white heart.",
                  "384",
                  "2010-12-01 16:22:00",
                  "2.95",
                  "13777.0",
                  "United Kingdom",
                  "1132.8000000000002",
                  "grande"
                ],
                [
                  "32724",
                  "536785",
                  "22423",
                  "regency cakestand 3 tier",
                  "144",
                  "2010-12-02 15:22:00",
                  "10.95",
                  "15061.0",
                  "United Kingdom",
                  "1576.8",
                  "grande"
                ],
                [
                  "33068",
                  "536809",
                  "84950",
                  "assorted colour t-light holder",
                  "1824",
                  "2010-12-02 16:48:00",
                  "0.55",
                  "15299.0",
                  "United Kingdom",
                  "1003.2",
                  "grande"
                ],
                [
                  "33162",
                  "536830",
                  "21915",
                  "red  harmonica in box",
                  "1400",
                  "2010-12-02 17:38:00",
                  "1.06",
                  "16754.0",
                  "United Kingdom",
                  "1484.0",
                  "grande"
                ],
                [
                  "34768",
                  "536970",
                  "22423",
                  "regency cakestand 3 tier",
                  "120",
                  "2010-12-03 13:12:00",
                  "10.95",
                  "17949.0",
                  "United Kingdom",
                  "1314.0",
                  "grande"
                ],
                [
                  "37986",
                  "537235",
                  "22622",
                  "box of vintage alphabet blocks",
                  "156",
                  "2010-12-06 09:45:00",
                  "8.5",
                  "17381.0",
                  "United Kingdom",
                  "1326.0",
                  "grande"
                ],
                [
                  "39386",
                  "537256",
                  "21137",
                  "black record cover frame",
                  "480",
                  "2010-12-06 11:06:00",
                  "3.39",
                  "16210.0",
                  "United Kingdom",
                  "1627.2",
                  "grande"
                ]
              ],
              "shape": {
                "columns": 10,
                "rows": 388
              }
            },
            "text/html": [
              "<div>\n",
              "<style scoped>\n",
              "    .dataframe tbody tr th:only-of-type {\n",
              "        vertical-align: middle;\n",
              "    }\n",
              "\n",
              "    .dataframe tbody tr th {\n",
              "        vertical-align: top;\n",
              "    }\n",
              "\n",
              "    .dataframe thead th {\n",
              "        text-align: right;\n",
              "    }\n",
              "</style>\n",
              "<table border=\"1\" class=\"dataframe\">\n",
              "  <thead>\n",
              "    <tr style=\"text-align: right;\">\n",
              "      <th></th>\n",
              "      <th>nroFactura</th>\n",
              "      <th>codigoStock</th>\n",
              "      <th>descripcion</th>\n",
              "      <th>cantidad</th>\n",
              "      <th>fechaFactura</th>\n",
              "      <th>precioUnidad</th>\n",
              "      <th>idCliente</th>\n",
              "      <th>pais</th>\n",
              "      <th>montoTotal</th>\n",
              "      <th>tamanoPedido</th>\n",
              "    </tr>\n",
              "  </thead>\n",
              "  <tbody>\n",
              "    <tr>\n",
              "      <th>292</th>\n",
              "      <td>538848</td>\n",
              "      <td>85232B</td>\n",
              "      <td>set of 3 babushka stacking tins</td>\n",
              "      <td>240</td>\n",
              "      <td>2010-12-14 13:28:00</td>\n",
              "      <td>4.95</td>\n",
              "      <td>17404.0</td>\n",
              "      <td>Sweden</td>\n",
              "      <td>1188.00</td>\n",
              "      <td>grande</td>\n",
              "    </tr>\n",
              "    <tr>\n",
              "      <th>2122</th>\n",
              "      <td>554155</td>\n",
              "      <td>M</td>\n",
              "      <td>manual</td>\n",
              "      <td>1</td>\n",
              "      <td>2011-05-23 11:26:00</td>\n",
              "      <td>1241.98</td>\n",
              "      <td>12757.0</td>\n",
              "      <td>Portugal</td>\n",
              "      <td>1241.98</td>\n",
              "      <td>pequeño</td>\n",
              "    </tr>\n",
              "    <tr>\n",
              "      <th>2123</th>\n",
              "      <td>554301</td>\n",
              "      <td>M</td>\n",
              "      <td>manual</td>\n",
              "      <td>1</td>\n",
              "      <td>2011-05-23 14:46:00</td>\n",
              "      <td>1241.98</td>\n",
              "      <td>12757.0</td>\n",
              "      <td>Portugal</td>\n",
              "      <td>1241.98</td>\n",
              "      <td>pequeño</td>\n",
              "    </tr>\n",
              "    <tr>\n",
              "      <th>7610</th>\n",
              "      <td>540267</td>\n",
              "      <td>22720</td>\n",
              "      <td>set of 3 cake tins pantry design</td>\n",
              "      <td>240</td>\n",
              "      <td>2011-01-06 11:12:00</td>\n",
              "      <td>4.25</td>\n",
              "      <td>12415.0</td>\n",
              "      <td>Australia</td>\n",
              "      <td>1020.00</td>\n",
              "      <td>grande</td>\n",
              "    </tr>\n",
              "    <tr>\n",
              "      <th>7816</th>\n",
              "      <td>545475</td>\n",
              "      <td>21217</td>\n",
              "      <td>red retrospot round cake tins</td>\n",
              "      <td>120</td>\n",
              "      <td>2011-03-03 10:59:00</td>\n",
              "      <td>8.95</td>\n",
              "      <td>12415.0</td>\n",
              "      <td>Australia</td>\n",
              "      <td>1074.00</td>\n",
              "      <td>grande</td>\n",
              "    </tr>\n",
              "    <tr>\n",
              "      <th>...</th>\n",
              "      <td>...</td>\n",
              "      <td>...</td>\n",
              "      <td>...</td>\n",
              "      <td>...</td>\n",
              "      <td>...</td>\n",
              "      <td>...</td>\n",
              "      <td>...</td>\n",
              "      <td>...</td>\n",
              "      <td>...</td>\n",
              "      <td>...</td>\n",
              "    </tr>\n",
              "    <tr>\n",
              "      <th>523567</th>\n",
              "      <td>581498</td>\n",
              "      <td>DOT</td>\n",
              "      <td>dotcom postage</td>\n",
              "      <td>1</td>\n",
              "      <td>2011-12-09 10:26:00</td>\n",
              "      <td>1714.17</td>\n",
              "      <td>NaN</td>\n",
              "      <td>United Kingdom</td>\n",
              "      <td>1714.17</td>\n",
              "      <td>pequeño</td>\n",
              "    </tr>\n",
              "    <tr>\n",
              "      <th>535483</th>\n",
              "      <td>548913</td>\n",
              "      <td>M</td>\n",
              "      <td>manual</td>\n",
              "      <td>1</td>\n",
              "      <td>2011-04-05 09:45:00</td>\n",
              "      <td>1136.30</td>\n",
              "      <td>12669.0</td>\n",
              "      <td>France</td>\n",
              "      <td>1136.30</td>\n",
              "      <td>pequeño</td>\n",
              "    </tr>\n",
              "    <tr>\n",
              "      <th>539882</th>\n",
              "      <td>573077</td>\n",
              "      <td>M</td>\n",
              "      <td>manual</td>\n",
              "      <td>1</td>\n",
              "      <td>2011-10-27 14:13:00</td>\n",
              "      <td>4161.06</td>\n",
              "      <td>12536.0</td>\n",
              "      <td>France</td>\n",
              "      <td>4161.06</td>\n",
              "      <td>pequeño</td>\n",
              "    </tr>\n",
              "    <tr>\n",
              "      <th>539884</th>\n",
              "      <td>573080</td>\n",
              "      <td>M</td>\n",
              "      <td>manual</td>\n",
              "      <td>1</td>\n",
              "      <td>2011-10-27 14:20:00</td>\n",
              "      <td>4161.06</td>\n",
              "      <td>12536.0</td>\n",
              "      <td>France</td>\n",
              "      <td>4161.06</td>\n",
              "      <td>pequeño</td>\n",
              "    </tr>\n",
              "    <tr>\n",
              "      <th>539885</th>\n",
              "      <td>573153</td>\n",
              "      <td>23084</td>\n",
              "      <td>rabbit night light</td>\n",
              "      <td>912</td>\n",
              "      <td>2011-10-28 07:39:00</td>\n",
              "      <td>1.79</td>\n",
              "      <td>12678.0</td>\n",
              "      <td>France</td>\n",
              "      <td>1632.48</td>\n",
              "      <td>grande</td>\n",
              "    </tr>\n",
              "  </tbody>\n",
              "</table>\n",
              "<p>388 rows × 10 columns</p>\n",
              "</div>"
            ],
            "text/plain": [
              "       nroFactura codigoStock                       descripcion  cantidad  \\\n",
              "292        538848      85232B   set of 3 babushka stacking tins       240   \n",
              "2122       554155           M                            manual         1   \n",
              "2123       554301           M                            manual         1   \n",
              "7610       540267       22720  set of 3 cake tins pantry design       240   \n",
              "7816       545475       21217     red retrospot round cake tins       120   \n",
              "...           ...         ...                               ...       ...   \n",
              "523567     581498         DOT                    dotcom postage         1   \n",
              "535483     548913           M                            manual         1   \n",
              "539882     573077           M                            manual         1   \n",
              "539884     573080           M                            manual         1   \n",
              "539885     573153       23084                rabbit night light       912   \n",
              "\n",
              "              fechaFactura  precioUnidad  idCliente            pais  \\\n",
              "292    2010-12-14 13:28:00          4.95    17404.0          Sweden   \n",
              "2122   2011-05-23 11:26:00       1241.98    12757.0        Portugal   \n",
              "2123   2011-05-23 14:46:00       1241.98    12757.0        Portugal   \n",
              "7610   2011-01-06 11:12:00          4.25    12415.0       Australia   \n",
              "7816   2011-03-03 10:59:00          8.95    12415.0       Australia   \n",
              "...                    ...           ...        ...             ...   \n",
              "523567 2011-12-09 10:26:00       1714.17        NaN  United Kingdom   \n",
              "535483 2011-04-05 09:45:00       1136.30    12669.0          France   \n",
              "539882 2011-10-27 14:13:00       4161.06    12536.0          France   \n",
              "539884 2011-10-27 14:20:00       4161.06    12536.0          France   \n",
              "539885 2011-10-28 07:39:00          1.79    12678.0          France   \n",
              "\n",
              "        montoTotal tamanoPedido  \n",
              "292        1188.00       grande  \n",
              "2122       1241.98      pequeño  \n",
              "2123       1241.98      pequeño  \n",
              "7610       1020.00       grande  \n",
              "7816       1074.00       grande  \n",
              "...            ...          ...  \n",
              "523567     1714.17      pequeño  \n",
              "535483     1136.30      pequeño  \n",
              "539882     4161.06      pequeño  \n",
              "539884     4161.06      pequeño  \n",
              "539885     1632.48       grande  \n",
              "\n",
              "[388 rows x 10 columns]"
            ]
          },
          "execution_count": 17,
          "metadata": {},
          "output_type": "execute_result"
        }
      ],
      "source": [
        "facturas_auditoria = ecommerce_df[ecommerce_df['montoTotal'] > 1000] # Se filtra las facturas con montoTotal mayor a 1000 £\n",
        "facturas_auditoria"
      ]
    },
    {
      "cell_type": "code",
      "execution_count": 18,
      "metadata": {},
      "outputs": [
        {
          "name": "stdout",
          "output_type": "stream",
          "text": [
            "Número de clientes únicos con pedidos > 1000 £: 57\n"
          ]
        }
      ],
      "source": [
        "clientes_unicos = facturas_auditoria['idCliente'].nunique()\n",
        "print(f\"Número de clientes únicos con pedidos > 1000 £: {clientes_unicos}\")"
      ]
    },
    {
      "cell_type": "markdown",
      "metadata": {
        "id": "GImmnT_utgAs"
      },
      "source": [
        "Datos inconsistentes\n",
        "\n",
        "13. Control de calidad detecta devoluciones.\n",
        "- Cuántas facturas tienen montos totales negativos?.  \n",
        "Analice por qué puede ocurrir que sean negativos los montos totales."
      ]
    },
    {
      "cell_type": "code",
      "execution_count": 19,
      "metadata": {},
      "outputs": [
        {
          "name": "stdout",
          "output_type": "stream",
          "text": [
            "Número de facturas con monto total negativo: 3838\n"
          ]
        }
      ],
      "source": [
        "facturas_negativas = ecommerce_df[ecommerce_df['montoTotal'] < 0]\n",
        "cantidad_facturas_negativas = facturas_negativas['nroFactura'].nunique()\n",
        "print(f\"Número de facturas con monto total negativo: {cantidad_facturas_negativas}\")"
      ]
    },
    {
      "cell_type": "markdown",
      "metadata": {},
      "source": [
        "Los montos totales negativos generalmente indican devoluciones o notas de crédito, donde el cliente retorna productos y se registra un reembolso o ajuste negativo en la factura. También pueden deberse a errores de registro o correcciones administrativas."
      ]
    },
    {
      "cell_type": "markdown",
      "metadata": {
        "id": "0WWOWde0Nr8g"
      },
      "source": [
        "## Group By"
      ]
    },
    {
      "cell_type": "markdown",
      "metadata": {
        "id": "y7LYUJfqNnIV"
      },
      "source": [
        "¿Dónde centrar inversiones por país y mes?  \n",
        "14. Exportación quiere conocer sus 10 mejores mercados. Haga un top de los 10 mejores mercados para exportación.\n"
      ]
    },
    {
      "cell_type": "code",
      "execution_count": 20,
      "metadata": {},
      "outputs": [
        {
          "name": "stdout",
          "output_type": "stream",
          "text": [
            "Los 10 mercados (país) con mayores ventas:\n",
            "pais\n",
            "United Kingdom    8187806.364\n",
            "Netherlands        284661.540\n",
            "EIRE               263276.820\n",
            "Germany            221698.210\n",
            "France             197403.900\n",
            "Australia          137077.270\n",
            "Switzerland         56385.350\n",
            "Spain               54774.580\n",
            "Belgium             40910.960\n",
            "Sweden              36595.910\n",
            "Name: montoTotal, dtype: float64\n"
          ]
        }
      ],
      "source": [
        "top_mercados = (\n",
        "    ecommerce_df.groupby('pais')['montoTotal']\n",
        "    .sum()\n",
        "    .sort_values(ascending=False)\n",
        "    .head(10)\n",
        ")\n",
        "\n",
        "print(\"Los 10 mercados (país) con mayores ventas:\")\n",
        "print(top_mercados)"
      ]
    },
    {
      "cell_type": "code",
      "execution_count": 21,
      "metadata": {},
      "outputs": [
        {
          "name": "stdout",
          "output_type": "stream",
          "text": [
            "Los 10 mercados (país, año, mes) con mayores ventas:\n",
            "               pais   año  mes   montoTotal\n",
            "305  United Kingdom  2011   11  1282805.780\n",
            "304  United Kingdom  2011   10   877438.190\n",
            "303  United Kingdom  2011    9   862018.152\n",
            "294  United Kingdom  2010   12   676742.620\n",
            "299  United Kingdom  2011    5   596459.860\n",
            "301  United Kingdom  2011    7   565479.841\n",
            "297  United Kingdom  2011    3   559707.390\n",
            "300  United Kingdom  2011    6   554478.350\n",
            "302  United Kingdom  2011    8   539130.500\n",
            "298  United Kingdom  2011    4   442254.041\n"
          ]
        }
      ],
      "source": [
        "ecommerce_df['año'] = ecommerce_df['fechaFactura'].dt.year\n",
        "ecommerce_df['mes'] = ecommerce_df['fechaFactura'].dt.month\n",
        "\n",
        "top_mercados_mes = (\n",
        "    ecommerce_df.groupby(['pais', 'año', 'mes'])['montoTotal']\n",
        "    .sum()\n",
        "    .reset_index()\n",
        "    .sort_values('montoTotal', ascending=False)\n",
        "    .head(10)\n",
        ")\n",
        "print(\"Los 10 mercados (país, año, mes) con mayores ventas:\")\n",
        "print(top_mercados_mes)"
      ]
    },
    {
      "cell_type": "markdown",
      "metadata": {
        "id": "e140VmODurkI"
      },
      "source": [
        "Cliente más rentable:  \n",
        "15. La empresa quiere premiar al cliente con el mayor monto total promedio, muestre a dicho cliente."
      ]
    },
    {
      "cell_type": "code",
      "execution_count": 22,
      "metadata": {},
      "outputs": [
        {
          "name": "stdout",
          "output_type": "stream",
          "text": [
            "Cliente más rentable (mayor monto total promedio):\n",
            "idCliente\n",
            "15195.0    3861.0\n",
            "Name: montoTotal, dtype: float64\n"
          ]
        }
      ],
      "source": [
        "cliente_mas_rentable = (\n",
        "    ecommerce_df.groupby('idCliente')['montoTotal']\n",
        "    .mean()\n",
        "    .sort_values(ascending=False)\n",
        "    .head(1)\n",
        ")\n",
        "print(\"Cliente más rentable (mayor monto total promedio):\")\n",
        "print(cliente_mas_rentable) "
      ]
    },
    {
      "cell_type": "markdown",
      "metadata": {
        "id": "inuoyz9hNt-u"
      },
      "source": [
        "## Joins"
      ]
    },
    {
      "cell_type": "markdown",
      "metadata": {
        "id": "Kf69XmY4irC4"
      },
      "source": [
        "================== Recurso de ayuda [aquí](https://pandas.pydata.org/docs/reference/api/pandas.Series.dt.year.html) ==============="
      ]
    },
    {
      "cell_type": "markdown",
      "metadata": {
        "id": "We4pzm-YI91J"
      },
      "source": [
        "El área de ventas tiene las proyecciones de ingresos mensuales del año 2010 y 2011 para United Kingdom. El archivo tiene nombre \"proyecciones_mensuales_uk.csv\""
      ]
    },
    {
      "cell_type": "markdown",
      "metadata": {
        "id": "A0K8PmrtJGrM"
      },
      "source": [
        "16. Se quiere saber en qué años y meses los ingresos alcanzaron el objetivo proyectado.   \n",
        "Analice si se debe usar left, inner, outer o right join."
      ]
    },
    {
      "cell_type": "code",
      "execution_count": 23,
      "metadata": {},
      "outputs": [
        {
          "name": "stdout",
          "output_type": "stream",
          "text": [
            "Años/Mes donde el ingreso real supera la proyección:\n",
            "    año  mes  ingreso_real  proyeccionIngreso\n",
            "0  2010   12    676742.620             500000\n",
            "1  2011    1    434308.300             400000\n",
            "3  2011    3    559707.390             400000\n",
            "5  2011    6    554478.350             500000\n",
            "7  2011    8    539130.500             500000\n",
            "8  2011    9    862018.152             800000\n",
            "9  2011   11   1282805.780             900000\n"
          ]
        }
      ],
      "source": [
        "ingresos_uk = (\n",
        "    ecommerce_df[ecommerce_df['pais'] == 'United Kingdom']\n",
        "    .groupby(['año', 'mes'])['montoTotal']\n",
        "    .sum()\n",
        "    .reset_index()\n",
        "    .rename(columns={'montoTotal': 'ingreso_real'})\n",
        ")\n",
        "\n",
        "proyecciones = pd.read_csv('./data/proyecciones_mensuales_uk.csv', sep=';')\n",
        "\n",
        "df_comparacion = pd.merge(\n",
        "    ingresos_uk,\n",
        "    proyecciones,\n",
        "    on=['año', 'mes'],\n",
        "    how='inner' # Se usa 'inner' para mantener solo las filas con datos en ambas tablas\n",
        ")\n",
        "\n",
        "df_objetivo = df_comparacion[df_comparacion['ingreso_real'] >= df_comparacion['proyeccionIngreso']]\n",
        "\n",
        "print(\"Años/Mes donde el ingreso real supera la proyección:\")\n",
        "print(df_objetivo[['año', 'mes', 'ingreso_real', 'proyeccionIngreso']])"
      ]
    },
    {
      "cell_type": "markdown",
      "metadata": {
        "id": "MNfGLxPrKBXX"
      },
      "source": [
        "17. Se quiere saber en qué años y meses no se dispone de las proyecciones de ingresos para United Kingdom.   \n",
        "Analice si se debe usar left, inner, outer o right join.   \n",
        "Puede apoyarse del método [drop_duplicates](https://pandas.pydata.org/docs/reference/api/pandas.DataFrame.drop_duplicates.html)."
      ]
    },
    {
      "cell_type": "code",
      "execution_count": 24,
      "metadata": {},
      "outputs": [
        {
          "name": "stdout",
          "output_type": "stream",
          "text": [
            "Año/mes sin proyección:\n",
            "     año  mes  ingreso_real\n",
            "4   2011    4    442254.041\n",
            "10  2011   10    877438.190\n"
          ]
        }
      ],
      "source": [
        "# Se une ingresos_uk con proyecciones usando left join\n",
        "df_left = pd.merge(\n",
        "    ingresos_uk,\n",
        "    proyecciones,\n",
        "    on=['año', 'mes'],\n",
        "    how='left'\n",
        ")\n",
        "\n",
        "sin_proyeccion = df_left[df_left['proyeccionIngreso'].isna()] # Se filtra los meses donde no hay proyección (NaN)\n",
        "\n",
        "sin_proyeccion = sin_proyeccion.drop_duplicates(subset=['año', 'mes']) # Se eliminan duplicados\n",
        "\n",
        "print(\"Año/mes sin proyección:\")\n",
        "print(sin_proyeccion[['año', 'mes', 'ingreso_real']])"
      ]
    },
    {
      "cell_type": "markdown",
      "metadata": {
        "id": "NCQGoWBFKjbS"
      },
      "source": [
        "18. Se quiere saber en qué años y meses tenemos datos de ingresos y también se tiene información de las proyecciones.  \n",
        "Analice si se debe usar left, inner, outer o right join."
      ]
    },
    {
      "cell_type": "code",
      "execution_count": 25,
      "metadata": {},
      "outputs": [
        {
          "name": "stdout",
          "output_type": "stream",
          "text": [
            "     año  mes  ingreso_real  proyeccionIngreso\n",
            "0   2010   12    676742.620             500000\n",
            "1   2011    1    434308.300             400000\n",
            "2   2011    2    408247.910             500000\n",
            "3   2011    3    559707.390             400000\n",
            "4   2011    5    596459.860             600000\n",
            "5   2011    6    554478.350             500000\n",
            "6   2011    7    565479.841             600000\n",
            "7   2011    8    539130.500             500000\n",
            "8   2011    9    862018.152             800000\n",
            "9   2011   11   1282805.780             900000\n",
            "10  2011   12    388735.430             500000\n"
          ]
        }
      ],
      "source": [
        "# Se une ingresos_uk y proyecciones solo donde hay datos en ambos usando inner join\n",
        "df_coinciden = pd.merge(\n",
        "    ingresos_uk,\n",
        "    proyecciones,\n",
        "    on=['año', 'mes'],\n",
        "    how='inner'\n",
        ")\n",
        "\n",
        "print(df_coinciden[['año', 'mes', 'ingreso_real', 'proyeccionIngreso']])"
      ]
    },
    {
      "cell_type": "markdown",
      "metadata": {
        "id": "M8jYN3rpLBK9"
      },
      "source": [
        "19. Cree un nuevo dataframe que tenga una columna de los ingresos mensuales y otra columna sobre los ingresos mensuales proyectadas. Puede ocurrir que se disponga de los ingresos mensuales y no de las proyecciones para un mes específico o viceversa.  \n",
        "Analice si se debe usar left, inner, outer o right join."
      ]
    },
    {
      "cell_type": "code",
      "execution_count": 26,
      "metadata": {},
      "outputs": [
        {
          "name": "stdout",
          "output_type": "stream",
          "text": [
            "     año  mes  ingreso_real  proyeccionIngreso\n",
            "0   2010    1           NaN           400000.0\n",
            "1   2010    2           NaN           500000.0\n",
            "2   2010    3           NaN           400000.0\n",
            "3   2010    4           NaN           300000.0\n",
            "4   2010    5           NaN           350000.0\n",
            "5   2010    6           NaN           400000.0\n",
            "6   2010    7           NaN           500000.0\n",
            "7   2010   12    676742.620           500000.0\n",
            "8   2011    1    434308.300           400000.0\n",
            "9   2011    2    408247.910           500000.0\n",
            "10  2011    3    559707.390           400000.0\n",
            "11  2011    4    442254.041                NaN\n",
            "12  2011    5    596459.860           600000.0\n",
            "13  2011    6    554478.350           500000.0\n",
            "14  2011    7    565479.841           600000.0\n",
            "15  2011    8    539130.500           500000.0\n",
            "16  2011    9    862018.152           800000.0\n",
            "17  2011   10    877438.190                NaN\n",
            "18  2011   11   1282805.780           900000.0\n",
            "19  2011   12    388735.430           500000.0\n"
          ]
        }
      ],
      "source": [
        "# Se une ingresos_uk y proyecciones usando outer join para incluir todos los meses\n",
        "df_full = pd.merge(\n",
        "    ingresos_uk,\n",
        "    proyecciones,\n",
        "    on=['año', 'mes'],\n",
        "    how='outer'\n",
        ")\n",
        "\n",
        "print(df_full[['año', 'mes', 'ingreso_real', 'proyeccionIngreso']])"
      ]
    },
    {
      "cell_type": "markdown",
      "metadata": {},
      "source": [
        "## Directorios"
      ]
    },
    {
      "cell_type": "markdown",
      "metadata": {},
      "source": [
        "20. Guarde el dataframe resultante en la carpeta \"proyecto/procesado\", la carpeta debe estar al mismo nivel que la carpeta data. El nombre del archivo que contiene los resultados debe ser \"ecommerce-data_procesado.csv\"."
      ]
    },
    {
      "cell_type": "code",
      "execution_count": 27,
      "metadata": {},
      "outputs": [],
      "source": [
        "import os\n",
        "\n",
        "os.makedirs('procesado', exist_ok=True)\n",
        "\n",
        "df_full.to_csv('./procesado/ecommerce-data_procesado.csv', index=False)"
      ]
    }
  ],
  "metadata": {
    "colab": {
      "provenance": []
    },
    "kernelspec": {
      "display_name": "Python 3",
      "name": "python3"
    },
    "language_info": {
      "codemirror_mode": {
        "name": "ipython",
        "version": 3
      },
      "file_extension": ".py",
      "mimetype": "text/x-python",
      "name": "python",
      "nbconvert_exporter": "python",
      "pygments_lexer": "ipython3",
      "version": "3.10.5"
    }
  },
  "nbformat": 4,
  "nbformat_minor": 0
}
